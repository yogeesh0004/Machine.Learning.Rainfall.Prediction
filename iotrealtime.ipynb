{
  "nbformat": 4,
  "nbformat_minor": 0,
  "metadata": {
    "colab": {
      "provenance": [],
      "authorship_tag": "ABX9TyMnc/L3Fm5RB/dFpjQvg0di",
      "include_colab_link": true
    },
    "kernelspec": {
      "name": "python3",
      "display_name": "Python 3"
    },
    "language_info": {
      "name": "python"
    },
    "widgets": {
      "application/vnd.jupyter.widget-state+json": {
        "5e8084cda1ac45858597ce0f0ae803ff": {
          "model_module": "catboost-widget",
          "model_name": "CatboostWidgetModel",
          "model_module_version": "^1.0.0",
          "state": {
            "_dom_classes": [],
            "_model_module": "catboost-widget",
            "_model_module_version": "^1.0.0",
            "_model_name": "CatboostWidgetModel",
            "_view_count": null,
            "_view_module": "catboost-widget",
            "_view_module_version": "^1.0.0",
            "_view_name": "CatboostWidgetView",
            "data": {
              "catboost_info": {
                "path": "catboost_info",
                "name": "catboost_info",
                "content": {
                  "passed_iterations": 99,
                  "total_iterations": 100,
                  "data": {
                    "iterations": [
                      {
                        "learn": [
                          1.107288585
                        ],
                        "iteration": 0,
                        "passed_time": 0.04747683543,
                        "remaining_time": 4.700206708
                      },
                      {
                        "learn": [
                          1.099978257
                        ],
                        "iteration": 1,
                        "passed_time": 0.05437223671,
                        "remaining_time": 2.664239599
                      },
                      {
                        "learn": [
                          1.092174798
                        ],
                        "iteration": 2,
                        "passed_time": 0.05778501891,
                        "remaining_time": 1.868382278
                      },
                      {
                        "learn": [
                          1.08488761
                        ],
                        "iteration": 3,
                        "passed_time": 0.05851972915,
                        "remaining_time": 1.4044735
                      },
                      {
                        "learn": [
                          1.077366406
                        ],
                        "iteration": 4,
                        "passed_time": 0.06257326222,
                        "remaining_time": 1.188891982
                      },
                      {
                        "learn": [
                          1.070608896
                        ],
                        "iteration": 5,
                        "passed_time": 0.0649528245,
                        "remaining_time": 1.017594251
                      },
                      {
                        "learn": [
                          1.063839963
                        ],
                        "iteration": 6,
                        "passed_time": 0.06729938461,
                        "remaining_time": 0.8941203956
                      },
                      {
                        "learn": [
                          1.056924692
                        ],
                        "iteration": 7,
                        "passed_time": 0.06787580624,
                        "remaining_time": 0.7805717717
                      },
                      {
                        "learn": [
                          1.049805692
                        ],
                        "iteration": 8,
                        "passed_time": 0.07056054227,
                        "remaining_time": 0.713445483
                      },
                      {
                        "learn": [
                          1.042454026
                        ],
                        "iteration": 9,
                        "passed_time": 0.07292435079,
                        "remaining_time": 0.6563191571
                      },
                      {
                        "learn": [
                          1.034989711
                        ],
                        "iteration": 10,
                        "passed_time": 0.07354739367,
                        "remaining_time": 0.5950652761
                      },
                      {
                        "learn": [
                          1.027822515
                        ],
                        "iteration": 11,
                        "passed_time": 0.07446239262,
                        "remaining_time": 0.5460575458
                      },
                      {
                        "learn": [
                          1.020901063
                        ],
                        "iteration": 12,
                        "passed_time": 0.07668229347,
                        "remaining_time": 0.5131815024
                      },
                      {
                        "learn": [
                          1.013857801
                        ],
                        "iteration": 13,
                        "passed_time": 0.07888096929,
                        "remaining_time": 0.4845545256
                      },
                      {
                        "learn": [
                          1.00709383
                        ],
                        "iteration": 14,
                        "passed_time": 0.08102774987,
                        "remaining_time": 0.4591572492
                      },
                      {
                        "learn": [
                          1.000278737
                        ],
                        "iteration": 15,
                        "passed_time": 0.0831607559,
                        "remaining_time": 0.4365939685
                      },
                      {
                        "learn": [
                          0.9935393298
                        ],
                        "iteration": 16,
                        "passed_time": 0.08451387008,
                        "remaining_time": 0.4126265422
                      },
                      {
                        "learn": [
                          0.9871734824
                        ],
                        "iteration": 17,
                        "passed_time": 0.08499713011,
                        "remaining_time": 0.3872091483
                      },
                      {
                        "learn": [
                          0.9796009731
                        ],
                        "iteration": 18,
                        "passed_time": 0.08566114933,
                        "remaining_time": 0.365187005
                      },
                      {
                        "learn": [
                          0.9730856757
                        ],
                        "iteration": 19,
                        "passed_time": 0.08784237036,
                        "remaining_time": 0.3513694815
                      },
                      {
                        "learn": [
                          0.9663981505
                        ],
                        "iteration": 20,
                        "passed_time": 0.08836988286,
                        "remaining_time": 0.3324390831
                      },
                      {
                        "learn": [
                          0.9598089084
                        ],
                        "iteration": 21,
                        "passed_time": 0.0887918734,
                        "remaining_time": 0.3148075511
                      },
                      {
                        "learn": [
                          0.9535858079
                        ],
                        "iteration": 22,
                        "passed_time": 0.09099949799,
                        "remaining_time": 0.3046504933
                      },
                      {
                        "learn": [
                          0.9474105089
                        ],
                        "iteration": 23,
                        "passed_time": 0.0931767183,
                        "remaining_time": 0.2950596079
                      },
                      {
                        "learn": [
                          0.9408780104
                        ],
                        "iteration": 24,
                        "passed_time": 0.09375590056,
                        "remaining_time": 0.2812677017
                      },
                      {
                        "learn": [
                          0.9343044641
                        ],
                        "iteration": 25,
                        "passed_time": 0.09419480722,
                        "remaining_time": 0.2680929128
                      },
                      {
                        "learn": [
                          0.9280337024
                        ],
                        "iteration": 26,
                        "passed_time": 0.09462684387,
                        "remaining_time": 0.2558429482
                      },
                      {
                        "learn": [
                          0.921625473
                        ],
                        "iteration": 27,
                        "passed_time": 0.09511563654,
                        "remaining_time": 0.2445830654
                      },
                      {
                        "learn": [
                          0.9160662244
                        ],
                        "iteration": 28,
                        "passed_time": 0.09747036946,
                        "remaining_time": 0.2386343528
                      },
                      {
                        "learn": [
                          0.9103071765
                        ],
                        "iteration": 29,
                        "passed_time": 0.09969478289,
                        "remaining_time": 0.2326211601
                      },
                      {
                        "learn": [
                          0.9045920481
                        ],
                        "iteration": 30,
                        "passed_time": 0.1010697599,
                        "remaining_time": 0.2249617236
                      },
                      {
                        "learn": [
                          0.8990829268
                        ],
                        "iteration": 31,
                        "passed_time": 0.1017230079,
                        "remaining_time": 0.2161613918
                      },
                      {
                        "learn": [
                          0.8925828855
                        ],
                        "iteration": 32,
                        "passed_time": 0.1022648609,
                        "remaining_time": 0.207628657
                      },
                      {
                        "learn": [
                          0.8867722314
                        ],
                        "iteration": 33,
                        "passed_time": 0.1045640893,
                        "remaining_time": 0.2029773497
                      },
                      {
                        "learn": [
                          0.8811568407
                        ],
                        "iteration": 34,
                        "passed_time": 0.106697413,
                        "remaining_time": 0.1981523385
                      },
                      {
                        "learn": [
                          0.8754179621
                        ],
                        "iteration": 35,
                        "passed_time": 0.1073759714,
                        "remaining_time": 0.1908906158
                      },
                      {
                        "learn": [
                          0.8701590404
                        ],
                        "iteration": 36,
                        "passed_time": 0.1095123008,
                        "remaining_time": 0.1864668906
                      },
                      {
                        "learn": [
                          0.8646507999
                        ],
                        "iteration": 37,
                        "passed_time": 0.1118360358,
                        "remaining_time": 0.1824693216
                      },
                      {
                        "learn": [
                          0.8583709818
                        ],
                        "iteration": 38,
                        "passed_time": 0.1123227247,
                        "remaining_time": 0.1756842617
                      },
                      {
                        "learn": [
                          0.8530945419
                        ],
                        "iteration": 39,
                        "passed_time": 0.1144622662,
                        "remaining_time": 0.1716933993
                      },
                      {
                        "learn": [
                          0.847433878
                        ],
                        "iteration": 40,
                        "passed_time": 0.1148410902,
                        "remaining_time": 0.1652591298
                      },
                      {
                        "learn": [
                          0.8423492554
                        ],
                        "iteration": 41,
                        "passed_time": 0.1169639665,
                        "remaining_time": 0.161521668
                      },
                      {
                        "learn": [
                          0.8370274746
                        ],
                        "iteration": 42,
                        "passed_time": 0.1190554412,
                        "remaining_time": 0.1578176778
                      },
                      {
                        "learn": [
                          0.8315559317
                        ],
                        "iteration": 43,
                        "passed_time": 0.1204217821,
                        "remaining_time": 0.1532640863
                      },
                      {
                        "learn": [
                          0.8262544998
                        ],
                        "iteration": 44,
                        "passed_time": 0.1212976412,
                        "remaining_time": 0.1482526726
                      },
                      {
                        "learn": [
                          0.8219687641
                        ],
                        "iteration": 45,
                        "passed_time": 0.12337529,
                        "remaining_time": 0.1448318621
                      },
                      {
                        "learn": [
                          0.8164880243
                        ],
                        "iteration": 46,
                        "passed_time": 0.125522957,
                        "remaining_time": 0.1415471642
                      },
                      {
                        "learn": [
                          0.8115814149
                        ],
                        "iteration": 47,
                        "passed_time": 0.1277398858,
                        "remaining_time": 0.1383848763
                      },
                      {
                        "learn": [
                          0.8062568133
                        ],
                        "iteration": 48,
                        "passed_time": 0.128261092,
                        "remaining_time": 0.1334962386
                      },
                      {
                        "learn": [
                          0.8007833183
                        ],
                        "iteration": 49,
                        "passed_time": 0.1288963979,
                        "remaining_time": 0.1288963979
                      },
                      {
                        "learn": [
                          0.7956731289
                        ],
                        "iteration": 50,
                        "passed_time": 0.1310389769,
                        "remaining_time": 0.1259001935
                      },
                      {
                        "learn": [
                          0.7912107328
                        ],
                        "iteration": 51,
                        "passed_time": 0.1323484877,
                        "remaining_time": 0.1221678348
                      },
                      {
                        "learn": [
                          0.7861613168
                        ],
                        "iteration": 52,
                        "passed_time": 0.133013942,
                        "remaining_time": 0.1179557599
                      },
                      {
                        "learn": [
                          0.7813114556
                        ],
                        "iteration": 53,
                        "passed_time": 0.1351700414,
                        "remaining_time": 0.1151448501
                      },
                      {
                        "learn": [
                          0.776324928
                        ],
                        "iteration": 54,
                        "passed_time": 0.1357116085,
                        "remaining_time": 0.1110367706
                      },
                      {
                        "learn": [
                          0.7717506017
                        ],
                        "iteration": 55,
                        "passed_time": 0.1379176434,
                        "remaining_time": 0.1083638627
                      },
                      {
                        "learn": [
                          0.7664620605
                        ],
                        "iteration": 56,
                        "passed_time": 0.1383775415,
                        "remaining_time": 0.1043900751
                      },
                      {
                        "learn": [
                          0.7616442199
                        ],
                        "iteration": 57,
                        "passed_time": 0.1387409099,
                        "remaining_time": 0.1004675555
                      },
                      {
                        "learn": [
                          0.7569168375
                        ],
                        "iteration": 58,
                        "passed_time": 0.1409888772,
                        "remaining_time": 0.09797532144
                      },
                      {
                        "learn": [
                          0.7518945481
                        ],
                        "iteration": 59,
                        "passed_time": 0.1415693209,
                        "remaining_time": 0.09437954727
                      },
                      {
                        "learn": [
                          0.7470423303
                        ],
                        "iteration": 60,
                        "passed_time": 0.1420774994,
                        "remaining_time": 0.09083643404
                      },
                      {
                        "learn": [
                          0.7423625424
                        ],
                        "iteration": 61,
                        "passed_time": 0.1442714358,
                        "remaining_time": 0.0884244284
                      },
                      {
                        "learn": [
                          0.7376651224
                        ],
                        "iteration": 62,
                        "passed_time": 0.1465772641,
                        "remaining_time": 0.0860850599
                      },
                      {
                        "learn": [
                          0.7330448295
                        ],
                        "iteration": 63,
                        "passed_time": 0.1488295544,
                        "remaining_time": 0.08371662435
                      },
                      {
                        "learn": [
                          0.7285593848
                        ],
                        "iteration": 64,
                        "passed_time": 0.1510489948,
                        "remaining_time": 0.08133407411
                      },
                      {
                        "learn": [
                          0.7240845754
                        ],
                        "iteration": 65,
                        "passed_time": 0.1533178184,
                        "remaining_time": 0.07898190645
                      },
                      {
                        "learn": [
                          0.7195623985
                        ],
                        "iteration": 66,
                        "passed_time": 0.1542982053,
                        "remaining_time": 0.0759976235
                      },
                      {
                        "learn": [
                          0.7151240676
                        ],
                        "iteration": 67,
                        "passed_time": 0.1546463469,
                        "remaining_time": 0.07277475147
                      },
                      {
                        "learn": [
                          0.7107662966
                        ],
                        "iteration": 68,
                        "passed_time": 0.1568005666,
                        "remaining_time": 0.07044663136
                      },
                      {
                        "learn": [
                          0.7067454563
                        ],
                        "iteration": 69,
                        "passed_time": 0.1590172372,
                        "remaining_time": 0.06815024452
                      },
                      {
                        "learn": [
                          0.7024315819
                        ],
                        "iteration": 70,
                        "passed_time": 0.1612162281,
                        "remaining_time": 0.06584888188
                      },
                      {
                        "learn": [
                          0.6983433493
                        ],
                        "iteration": 71,
                        "passed_time": 0.1634574185,
                        "remaining_time": 0.06356677386
                      },
                      {
                        "learn": [
                          0.6937890075
                        ],
                        "iteration": 72,
                        "passed_time": 0.1639490686,
                        "remaining_time": 0.06063869661
                      },
                      {
                        "learn": [
                          0.6896174121
                        ],
                        "iteration": 73,
                        "passed_time": 0.1643350286,
                        "remaining_time": 0.05773933437
                      },
                      {
                        "learn": [
                          0.6858370507
                        ],
                        "iteration": 74,
                        "passed_time": 0.1649615922,
                        "remaining_time": 0.05498719739
                      },
                      {
                        "learn": [
                          0.6820044385
                        ],
                        "iteration": 75,
                        "passed_time": 0.1666271579,
                        "remaining_time": 0.05261910248
                      },
                      {
                        "learn": [
                          0.6781459868
                        ],
                        "iteration": 76,
                        "passed_time": 0.1667627959,
                        "remaining_time": 0.04981226371
                      },
                      {
                        "learn": [
                          0.6745431968
                        ],
                        "iteration": 77,
                        "passed_time": 0.1670042045,
                        "remaining_time": 0.04710374999
                      },
                      {
                        "learn": [
                          0.6705427933
                        ],
                        "iteration": 78,
                        "passed_time": 0.167250553,
                        "remaining_time": 0.04445900777
                      },
                      {
                        "learn": [
                          0.666373095
                        ],
                        "iteration": 79,
                        "passed_time": 0.1674292484,
                        "remaining_time": 0.04185731211
                      },
                      {
                        "learn": [
                          0.6623315737
                        ],
                        "iteration": 80,
                        "passed_time": 0.1698589404,
                        "remaining_time": 0.03984345516
                      },
                      {
                        "learn": [
                          0.6583612464
                        ],
                        "iteration": 81,
                        "passed_time": 0.1732584408,
                        "remaining_time": 0.03803234067
                      },
                      {
                        "learn": [
                          0.6540523031
                        ],
                        "iteration": 82,
                        "passed_time": 0.1746009616,
                        "remaining_time": 0.03576164273
                      },
                      {
                        "learn": [
                          0.6501659216
                        ],
                        "iteration": 83,
                        "passed_time": 0.1784062574,
                        "remaining_time": 0.03398214426
                      },
                      {
                        "learn": [
                          0.6466948317
                        ],
                        "iteration": 84,
                        "passed_time": 0.1815169069,
                        "remaining_time": 0.03203239534
                      },
                      {
                        "learn": [
                          0.6427102132
                        ],
                        "iteration": 85,
                        "passed_time": 0.1843126762,
                        "remaining_time": 0.03000438915
                      },
                      {
                        "learn": [
                          0.6387911799
                        ],
                        "iteration": 86,
                        "passed_time": 0.185300569,
                        "remaining_time": 0.02768859077
                      },
                      {
                        "learn": [
                          0.6351568631
                        ],
                        "iteration": 87,
                        "passed_time": 0.194158541,
                        "remaining_time": 0.02647616468
                      },
                      {
                        "learn": [
                          0.6314025266
                        ],
                        "iteration": 88,
                        "passed_time": 0.196052089,
                        "remaining_time": 0.02423115707
                      },
                      {
                        "learn": [
                          0.6275959329
                        ],
                        "iteration": 89,
                        "passed_time": 0.1983169328,
                        "remaining_time": 0.02203521476
                      },
                      {
                        "learn": [
                          0.6244096116
                        ],
                        "iteration": 90,
                        "passed_time": 0.2019898171,
                        "remaining_time": 0.01997701488
                      },
                      {
                        "learn": [
                          0.6207760205
                        ],
                        "iteration": 91,
                        "passed_time": 0.2088264773,
                        "remaining_time": 0.01815882411
                      },
                      {
                        "learn": [
                          0.6167771908
                        ],
                        "iteration": 92,
                        "passed_time": 0.2134722894,
                        "remaining_time": 0.01606780673
                      },
                      {
                        "learn": [
                          0.6132741465
                        ],
                        "iteration": 93,
                        "passed_time": 0.2180512234,
                        "remaining_time": 0.0139181632
                      },
                      {
                        "learn": [
                          0.609774843
                        ],
                        "iteration": 94,
                        "passed_time": 0.2439072034,
                        "remaining_time": 0.01283722123
                      },
                      {
                        "learn": [
                          0.6062667375
                        ],
                        "iteration": 95,
                        "passed_time": 0.2467428822,
                        "remaining_time": 0.01028095342
                      },
                      {
                        "learn": [
                          0.6028150877
                        ],
                        "iteration": 96,
                        "passed_time": 0.2472020392,
                        "remaining_time": 0.007645423894
                      },
                      {
                        "learn": [
                          0.5992451428
                        ],
                        "iteration": 97,
                        "passed_time": 0.2498675713,
                        "remaining_time": 0.005099338189
                      },
                      {
                        "learn": [
                          0.595350674
                        ],
                        "iteration": 98,
                        "passed_time": 0.2503773099,
                        "remaining_time": 0.002529063736
                      },
                      {
                        "learn": [
                          0.5916373975
                        ],
                        "iteration": 99,
                        "passed_time": 0.2507995209,
                        "remaining_time": 0
                      }
                    ],
                    "meta": {
                      "test_sets": [],
                      "test_metrics": [],
                      "learn_metrics": [
                        {
                          "best_value": "Min",
                          "name": "RMSE"
                        }
                      ],
                      "launch_mode": "Train",
                      "parameters": "",
                      "iteration_count": 100,
                      "learn_sets": [
                        "learn"
                      ],
                      "name": "experiment"
                    }
                  }
                }
              }
            },
            "layout": "IPY_MODEL_cd3f88c386e147ecb32eec16dc246724"
          }
        }
      }
    }
  },
  "cells": [
    {
      "cell_type": "markdown",
      "metadata": {
        "id": "view-in-github",
        "colab_type": "text"
      },
      "source": [
        "<a href=\"https://colab.research.google.com/github/yogeesh0004/Machine.Learning.Rainfall.Prediction/blob/master/iotrealtime.ipynb\" target=\"_parent\"><img src=\"https://colab.research.google.com/assets/colab-badge.svg\" alt=\"Open In Colab\"/></a>"
      ]
    },
    {
      "cell_type": "code",
      "execution_count": 2,
      "metadata": {
        "id": "qSECWnCBRb66"
      },
      "outputs": [],
      "source": [
        "import numpy as np\n",
        "import pandas as pd\n",
        "import matplotlib.pyplot as plt\n",
        "import seaborn as sns\n",
        "from sklearn.preprocessing import StandardScaler\n",
        "from sklearn.model_selection import train_test_split\n",
        "from sklearn.linear_model import LinearRegression\n",
        "\n",
        "import warnings\n",
        "warnings.filterwarnings('ignore')"
      ]
    },
    {
      "cell_type": "code",
      "source": [
        "data = pd.read_csv(\"/content/feeds (4).csv\")"
      ],
      "metadata": {
        "id": "pL5J1uLpRrrd"
      },
      "execution_count": 3,
      "outputs": []
    },
    {
      "cell_type": "code",
      "source": [
        "data.head()"
      ],
      "metadata": {
        "colab": {
          "base_uri": "https://localhost:8080/",
          "height": 354
        },
        "id": "9ruiOlrFR2cQ",
        "outputId": "9628e22a-5464-4f37-8c67-15bee38cfeef"
      },
      "execution_count": 4,
      "outputs": [
        {
          "output_type": "execute_result",
          "data": {
            "text/plain": [
              "                  created_at  entry_id  Temerature  Humidity  Pressure  \\\n",
              "0  2023-03-18T20:24:33+05:30         1        30.7      69.5    983.50   \n",
              "1  2023-03-18T20:24:49+05:30         2        30.7      69.6    983.51   \n",
              "2  2023-03-18T20:25:04+05:30         3        30.7      69.8    983.45   \n",
              "3  2023-03-18T20:25:04+05:30         4        30.6      69.4    983.54   \n",
              "4  2023-03-18T20:26:04+05:30         5        30.6      69.6    983.40   \n",
              "\n",
              "   Rain Drop Value  \n",
              "0                4  \n",
              "1                3  \n",
              "2                3  \n",
              "3                3  \n",
              "4                3  "
            ],
            "text/html": [
              "\n",
              "  <div id=\"df-1c8d1a88-9495-42ce-bb0e-33d162e3c36a\">\n",
              "    <div class=\"colab-df-container\">\n",
              "      <div>\n",
              "<style scoped>\n",
              "    .dataframe tbody tr th:only-of-type {\n",
              "        vertical-align: middle;\n",
              "    }\n",
              "\n",
              "    .dataframe tbody tr th {\n",
              "        vertical-align: top;\n",
              "    }\n",
              "\n",
              "    .dataframe thead th {\n",
              "        text-align: right;\n",
              "    }\n",
              "</style>\n",
              "<table border=\"1\" class=\"dataframe\">\n",
              "  <thead>\n",
              "    <tr style=\"text-align: right;\">\n",
              "      <th></th>\n",
              "      <th>created_at</th>\n",
              "      <th>entry_id</th>\n",
              "      <th>Temerature</th>\n",
              "      <th>Humidity</th>\n",
              "      <th>Pressure</th>\n",
              "      <th>Rain Drop Value</th>\n",
              "    </tr>\n",
              "  </thead>\n",
              "  <tbody>\n",
              "    <tr>\n",
              "      <th>0</th>\n",
              "      <td>2023-03-18T20:24:33+05:30</td>\n",
              "      <td>1</td>\n",
              "      <td>30.7</td>\n",
              "      <td>69.5</td>\n",
              "      <td>983.50</td>\n",
              "      <td>4</td>\n",
              "    </tr>\n",
              "    <tr>\n",
              "      <th>1</th>\n",
              "      <td>2023-03-18T20:24:49+05:30</td>\n",
              "      <td>2</td>\n",
              "      <td>30.7</td>\n",
              "      <td>69.6</td>\n",
              "      <td>983.51</td>\n",
              "      <td>3</td>\n",
              "    </tr>\n",
              "    <tr>\n",
              "      <th>2</th>\n",
              "      <td>2023-03-18T20:25:04+05:30</td>\n",
              "      <td>3</td>\n",
              "      <td>30.7</td>\n",
              "      <td>69.8</td>\n",
              "      <td>983.45</td>\n",
              "      <td>3</td>\n",
              "    </tr>\n",
              "    <tr>\n",
              "      <th>3</th>\n",
              "      <td>2023-03-18T20:25:04+05:30</td>\n",
              "      <td>4</td>\n",
              "      <td>30.6</td>\n",
              "      <td>69.4</td>\n",
              "      <td>983.54</td>\n",
              "      <td>3</td>\n",
              "    </tr>\n",
              "    <tr>\n",
              "      <th>4</th>\n",
              "      <td>2023-03-18T20:26:04+05:30</td>\n",
              "      <td>5</td>\n",
              "      <td>30.6</td>\n",
              "      <td>69.6</td>\n",
              "      <td>983.40</td>\n",
              "      <td>3</td>\n",
              "    </tr>\n",
              "  </tbody>\n",
              "</table>\n",
              "</div>\n",
              "      <button class=\"colab-df-convert\" onclick=\"convertToInteractive('df-1c8d1a88-9495-42ce-bb0e-33d162e3c36a')\"\n",
              "              title=\"Convert this dataframe to an interactive table.\"\n",
              "              style=\"display:none;\">\n",
              "        \n",
              "  <svg xmlns=\"http://www.w3.org/2000/svg\" height=\"24px\"viewBox=\"0 0 24 24\"\n",
              "       width=\"24px\">\n",
              "    <path d=\"M0 0h24v24H0V0z\" fill=\"none\"/>\n",
              "    <path d=\"M18.56 5.44l.94 2.06.94-2.06 2.06-.94-2.06-.94-.94-2.06-.94 2.06-2.06.94zm-11 1L8.5 8.5l.94-2.06 2.06-.94-2.06-.94L8.5 2.5l-.94 2.06-2.06.94zm10 10l.94 2.06.94-2.06 2.06-.94-2.06-.94-.94-2.06-.94 2.06-2.06.94z\"/><path d=\"M17.41 7.96l-1.37-1.37c-.4-.4-.92-.59-1.43-.59-.52 0-1.04.2-1.43.59L10.3 9.45l-7.72 7.72c-.78.78-.78 2.05 0 2.83L4 21.41c.39.39.9.59 1.41.59.51 0 1.02-.2 1.41-.59l7.78-7.78 2.81-2.81c.8-.78.8-2.07 0-2.86zM5.41 20L4 18.59l7.72-7.72 1.47 1.35L5.41 20z\"/>\n",
              "  </svg>\n",
              "      </button>\n",
              "      \n",
              "  <style>\n",
              "    .colab-df-container {\n",
              "      display:flex;\n",
              "      flex-wrap:wrap;\n",
              "      gap: 12px;\n",
              "    }\n",
              "\n",
              "    .colab-df-convert {\n",
              "      background-color: #E8F0FE;\n",
              "      border: none;\n",
              "      border-radius: 50%;\n",
              "      cursor: pointer;\n",
              "      display: none;\n",
              "      fill: #1967D2;\n",
              "      height: 32px;\n",
              "      padding: 0 0 0 0;\n",
              "      width: 32px;\n",
              "    }\n",
              "\n",
              "    .colab-df-convert:hover {\n",
              "      background-color: #E2EBFA;\n",
              "      box-shadow: 0px 1px 2px rgba(60, 64, 67, 0.3), 0px 1px 3px 1px rgba(60, 64, 67, 0.15);\n",
              "      fill: #174EA6;\n",
              "    }\n",
              "\n",
              "    [theme=dark] .colab-df-convert {\n",
              "      background-color: #3B4455;\n",
              "      fill: #D2E3FC;\n",
              "    }\n",
              "\n",
              "    [theme=dark] .colab-df-convert:hover {\n",
              "      background-color: #434B5C;\n",
              "      box-shadow: 0px 1px 3px 1px rgba(0, 0, 0, 0.15);\n",
              "      filter: drop-shadow(0px 1px 2px rgba(0, 0, 0, 0.3));\n",
              "      fill: #FFFFFF;\n",
              "    }\n",
              "  </style>\n",
              "\n",
              "      <script>\n",
              "        const buttonEl =\n",
              "          document.querySelector('#df-1c8d1a88-9495-42ce-bb0e-33d162e3c36a button.colab-df-convert');\n",
              "        buttonEl.style.display =\n",
              "          google.colab.kernel.accessAllowed ? 'block' : 'none';\n",
              "\n",
              "        async function convertToInteractive(key) {\n",
              "          const element = document.querySelector('#df-1c8d1a88-9495-42ce-bb0e-33d162e3c36a');\n",
              "          const dataTable =\n",
              "            await google.colab.kernel.invokeFunction('convertToInteractive',\n",
              "                                                     [key], {});\n",
              "          if (!dataTable) return;\n",
              "\n",
              "          const docLinkHtml = 'Like what you see? Visit the ' +\n",
              "            '<a target=\"_blank\" href=https://colab.research.google.com/notebooks/data_table.ipynb>data table notebook</a>'\n",
              "            + ' to learn more about interactive tables.';\n",
              "          element.innerHTML = '';\n",
              "          dataTable['output_type'] = 'display_data';\n",
              "          await google.colab.output.renderOutput(dataTable, element);\n",
              "          const docLink = document.createElement('div');\n",
              "          docLink.innerHTML = docLinkHtml;\n",
              "          element.appendChild(docLink);\n",
              "        }\n",
              "      </script>\n",
              "    </div>\n",
              "  </div>\n",
              "  "
            ]
          },
          "metadata": {},
          "execution_count": 4
        }
      ]
    },
    {
      "cell_type": "code",
      "source": [
        "data['created_at'] = pd.to_datetime(data['created_at'])"
      ],
      "metadata": {
        "id": "auRmGXiLR5XW"
      },
      "execution_count": 5,
      "outputs": []
    },
    {
      "cell_type": "code",
      "source": [
        "data.dtypes"
      ],
      "metadata": {
        "colab": {
          "base_uri": "https://localhost:8080/"
        },
        "id": "lJczvvTqSeVF",
        "outputId": "7a22defa-004b-47a8-857c-afdebc4a977f"
      },
      "execution_count": 6,
      "outputs": [
        {
          "output_type": "execute_result",
          "data": {
            "text/plain": [
              "created_at         datetime64[ns, pytz.FixedOffset(330)]\n",
              "entry_id                                           int64\n",
              "Temerature                                       float64\n",
              "Humidity                                         float64\n",
              "Pressure                                         float64\n",
              "Rain Drop Value                                    int64\n",
              "dtype: object"
            ]
          },
          "metadata": {},
          "execution_count": 6
        }
      ]
    },
    {
      "cell_type": "code",
      "source": [
        "data['Year'] = pd.DatetimeIndex(data['created_at']).year\n",
        "data['Month'] = pd.DatetimeIndex(data['created_at']).month"
      ],
      "metadata": {
        "id": "d4TjIMXSShqC"
      },
      "execution_count": 7,
      "outputs": []
    },
    {
      "cell_type": "code",
      "source": [
        "data.drop(columns='created_at',inplace=True)"
      ],
      "metadata": {
        "id": "yrmVp2NBS1R8"
      },
      "execution_count": 9,
      "outputs": []
    },
    {
      "cell_type": "code",
      "source": [
        "sns.distplot(data['Rain Drop Value'],bins=10)"
      ],
      "metadata": {
        "colab": {
          "base_uri": "https://localhost:8080/",
          "height": 296
        },
        "id": "WXzhOGeeS30A",
        "outputId": "cfd8667f-bb3e-4520-a8ee-8bf80a13c5ed"
      },
      "execution_count": 10,
      "outputs": [
        {
          "output_type": "execute_result",
          "data": {
            "text/plain": [
              "<Axes: xlabel='Rain Drop Value', ylabel='Density'>"
            ]
          },
          "metadata": {},
          "execution_count": 10
        },
        {
          "output_type": "display_data",
          "data": {
            "text/plain": [
              "<Figure size 432x288 with 1 Axes>"
            ],
            "image/png": "[encoded data removed]"
          },
          "metadata": {
            "needs_background": "light"
          }
        }
      ]
    },
    {
      "cell_type": "code",
      "source": [
        "sns.boxplot(data['Rain Drop Value'])"
      ],
      "metadata": {
        "colab": {
          "base_uri": "https://localhost:8080/",
          "height": 282
        },
        "id": "FwKV6QWTTHcr",
        "outputId": "bccabfb5-3e3c-4d12-ca19-be8661292523"
      },
      "execution_count": 11,
      "outputs": [
        {
          "output_type": "execute_result",
          "data": {
            "text/plain": [
              "<Axes: >"
            ]
          },
          "metadata": {},
          "execution_count": 11
        },
        {
          "output_type": "display_data",
          "data": {
            "text/plain": [
              "<Figure size 432x288 with 1 Axes>"
            ],
            "image/png": "[encoded data removed]"
          },
          "metadata": {
            "needs_background": "light"
          }
        }
      ]
    },
    {
      "cell_type": "code",
      "source": [
        "x = data.drop(['Rain Drop Value','entry_id','Year','Month'], axis=1)\n",
        "\n",
        "y = data['Rain Drop Value'].values.astype('float32')\n",
        "y = y.reshape(-1, 1)\n"
      ],
      "metadata": {
        "id": "Hsc6BJBjTedS"
      },
      "execution_count": 23,
      "outputs": []
    },
    {
      "cell_type": "code",
      "source": [
        "sc = StandardScaler()\n",
        "x_std = sc.fit_transform(x)\n",
        "x_std = pd.DataFrame(x_std,columns=x.columns)"
      ],
      "metadata": {
        "id": "_j5TmcO-Ucn0"
      },
      "execution_count": 24,
      "outputs": []
    },
    {
      "cell_type": "code",
      "source": [
        "x_std.describe()"
      ],
      "metadata": {
        "colab": {
          "base_uri": "https://localhost:8080/",
          "height": 300
        },
        "id": "xXKhIqs5VLIp",
        "outputId": "c04bbeb7-1d64-499e-d872-a17931b4e8dc"
      },
      "execution_count": 25,
      "outputs": [
        {
          "output_type": "execute_result",
          "data": {
            "text/plain": [
              "         Temerature      Humidity      Pressure\n",
              "count  1.020000e+02  1.020000e+02  1.020000e+02\n",
              "mean   2.381537e-15  1.542339e-15 -2.120744e-14\n",
              "std    1.004938e+00  1.004938e+00  1.004938e+00\n",
              "min   -1.788428e+00 -1.668711e+00 -1.107727e+00\n",
              "25%   -1.180193e+00 -6.753584e-01 -7.536071e-01\n",
              "50%    5.938237e-01 -4.287814e-01 -5.960706e-01\n",
              "75%    5.938237e-01  9.520495e-01  1.036519e+00\n",
              "max    1.252744e+00  2.051078e+00  1.728827e+00"
            ],
            "text/html": [
              "\n",
              "  <div id=\"df-f9aa74d0-4aa2-48c6-953e-7c5443f84474\">\n",
              "    <div class=\"colab-df-container\">\n",
              "      <div>\n",
              "<style scoped>\n",
              "    .dataframe tbody tr th:only-of-type {\n",
              "        vertical-align: middle;\n",
              "    }\n",
              "\n",
              "    .dataframe tbody tr th {\n",
              "        vertical-align: top;\n",
              "    }\n",
              "\n",
              "    .dataframe thead th {\n",
              "        text-align: right;\n",
              "    }\n",
              "</style>\n",
              "<table border=\"1\" class=\"dataframe\">\n",
              "  <thead>\n",
              "    <tr style=\"text-align: right;\">\n",
              "      <th></th>\n",
              "      <th>Temerature</th>\n",
              "      <th>Humidity</th>\n",
              "      <th>Pressure</th>\n",
              "    </tr>\n",
              "  </thead>\n",
              "  <tbody>\n",
              "    <tr>\n",
              "      <th>count</th>\n",
              "      <td>1.020000e+02</td>\n",
              "      <td>1.020000e+02</td>\n",
              "      <td>1.020000e+02</td>\n",
              "    </tr>\n",
              "    <tr>\n",
              "      <th>mean</th>\n",
              "      <td>2.381537e-15</td>\n",
              "      <td>1.542339e-15</td>\n",
              "      <td>-2.120744e-14</td>\n",
              "    </tr>\n",
              "    <tr>\n",
              "      <th>std</th>\n",
              "      <td>1.004938e+00</td>\n",
              "      <td>1.004938e+00</td>\n",
              "      <td>1.004938e+00</td>\n",
              "    </tr>\n",
              "    <tr>\n",
              "      <th>min</th>\n",
              "      <td>-1.788428e+00</td>\n",
              "      <td>-1.668711e+00</td>\n",
              "      <td>-1.107727e+00</td>\n",
              "    </tr>\n",
              "    <tr>\n",
              "      <th>25%</th>\n",
              "      <td>-1.180193e+00</td>\n",
              "      <td>-6.753584e-01</td>\n",
              "      <td>-7.536071e-01</td>\n",
              "    </tr>\n",
              "    <tr>\n",
              "      <th>50%</th>\n",
              "      <td>5.938237e-01</td>\n",
              "      <td>-4.287814e-01</td>\n",
              "      <td>-5.960706e-01</td>\n",
              "    </tr>\n",
              "    <tr>\n",
              "      <th>75%</th>\n",
              "      <td>5.938237e-01</td>\n",
              "      <td>9.520495e-01</td>\n",
              "      <td>1.036519e+00</td>\n",
              "    </tr>\n",
              "    <tr>\n",
              "      <th>max</th>\n",
              "      <td>1.252744e+00</td>\n",
              "      <td>2.051078e+00</td>\n",
              "      <td>1.728827e+00</td>\n",
              "    </tr>\n",
              "  </tbody>\n",
              "</table>\n",
              "</div>\n",
              "      <button class=\"colab-df-convert\" onclick=\"convertToInteractive('df-f9aa74d0-4aa2-48c6-953e-7c5443f84474')\"\n",
              "              title=\"Convert this dataframe to an interactive table.\"\n",
              "              style=\"display:none;\">\n",
              "        \n",
              "  <svg xmlns=\"http://www.w3.org/2000/svg\" height=\"24px\"viewBox=\"0 0 24 24\"\n",
              "       width=\"24px\">\n",
              "    <path d=\"M0 0h24v24H0V0z\" fill=\"none\"/>\n",
              "    <path d=\"M18.56 5.44l.94 2.06.94-2.06 2.06-.94-2.06-.94-.94-2.06-.94 2.06-2.06.94zm-11 1L8.5 8.5l.94-2.06 2.06-.94-2.06-.94L8.5 2.5l-.94 2.06-2.06.94zm10 10l.94 2.06.94-2.06 2.06-.94-2.06-.94-.94-2.06-.94 2.06-2.06.94z\"/><path d=\"M17.41 7.96l-1.37-1.37c-.4-.4-.92-.59-1.43-.59-.52 0-1.04.2-1.43.59L10.3 9.45l-7.72 7.72c-.78.78-.78 2.05 0 2.83L4 21.41c.39.39.9.59 1.41.59.51 0 1.02-.2 1.41-.59l7.78-7.78 2.81-2.81c.8-.78.8-2.07 0-2.86zM5.41 20L4 18.59l7.72-7.72 1.47 1.35L5.41 20z\"/>\n",
              "  </svg>\n",
              "      </button>\n",
              "      \n",
              "  <style>\n",
              "    .colab-df-container {\n",
              "      display:flex;\n",
              "      flex-wrap:wrap;\n",
              "      gap: 12px;\n",
              "    }\n",
              "\n",
              "    .colab-df-convert {\n",
              "      background-color: #E8F0FE;\n",
              "      border: none;\n",
              "      border-radius: 50%;\n",
              "      cursor: pointer;\n",
              "      display: none;\n",
              "      fill: #1967D2;\n",
              "      height: 32px;\n",
              "      padding: 0 0 0 0;\n",
              "      width: 32px;\n",
              "    }\n",
              "\n",
              "    .colab-df-convert:hover {\n",
              "      background-color: #E2EBFA;\n",
              "      box-shadow: 0px 1px 2px rgba(60, 64, 67, 0.3), 0px 1px 3px 1px rgba(60, 64, 67, 0.15);\n",
              "      fill: #174EA6;\n",
              "    }\n",
              "\n",
              "    [theme=dark] .colab-df-convert {\n",
              "      background-color: #3B4455;\n",
              "      fill: #D2E3FC;\n",
              "    }\n",
              "\n",
              "    [theme=dark] .colab-df-convert:hover {\n",
              "      background-color: #434B5C;\n",
              "      box-shadow: 0px 1px 3px 1px rgba(0, 0, 0, 0.15);\n",
              "      filter: drop-shadow(0px 1px 2px rgba(0, 0, 0, 0.3));\n",
              "      fill: #FFFFFF;\n",
              "    }\n",
              "  </style>\n",
              "\n",
              "      <script>\n",
              "        const buttonEl =\n",
              "          document.querySelector('#df-f9aa74d0-4aa2-48c6-953e-7c5443f84474 button.colab-df-convert');\n",
              "        buttonEl.style.display =\n",
              "          google.colab.kernel.accessAllowed ? 'block' : 'none';\n",
              "\n",
              "        async function convertToInteractive(key) {\n",
              "          const element = document.querySelector('#df-f9aa74d0-4aa2-48c6-953e-7c5443f84474');\n",
              "          const dataTable =\n",
              "            await google.colab.kernel.invokeFunction('convertToInteractive',\n",
              "                                                     [key], {});\n",
              "          if (!dataTable) return;\n",
              "\n",
              "          const docLinkHtml = 'Like what you see? Visit the ' +\n",
              "            '<a target=\"_blank\" href=https://colab.research.google.com/notebooks/data_table.ipynb>data table notebook</a>'\n",
              "            + ' to learn more about interactive tables.';\n",
              "          element.innerHTML = '';\n",
              "          dataTable['output_type'] = 'display_data';\n",
              "          await google.colab.output.renderOutput(dataTable, element);\n",
              "          const docLink = document.createElement('div');\n",
              "          docLink.innerHTML = docLinkHtml;\n",
              "          element.appendChild(docLink);\n",
              "        }\n",
              "      </script>\n",
              "    </div>\n",
              "  </div>\n",
              "  "
            ]
          },
          "metadata": {},
          "execution_count": 25
        }
      ]
    },
    {
      "cell_type": "code",
      "source": [
        "x_train,x_test,y_train,y_test = train_test_split(x_std,y,test_size=0.2,random_state=42)"
      ],
      "metadata": {
        "id": "I1EFa83KVWRg"
      },
      "execution_count": 26,
      "outputs": []
    },
    {
      "cell_type": "code",
      "source": [
        "reg_model = LinearRegression()\n",
        "reg_model.fit(x_train,y_train)"
      ],
      "metadata": {
        "colab": {
          "base_uri": "https://localhost:8080/",
          "height": 74
        },
        "id": "Sj8BRcq4V63m",
        "outputId": "f31698a9-75a9-44a7-e1fb-09776fb91be2"
      },
      "execution_count": 27,
      "outputs": [
        {
          "output_type": "execute_result",
          "data": {
            "text/plain": [
              "LinearRegression()"
            ],
            "text/html": [
              "<style>#sk-container-id-1 {color: black;background-color: white;}#sk-container-id-1 pre{padding: 0;}#sk-container-id-1 div.sk-toggleable {background-color: white;}#sk-container-id-1 label.sk-toggleable__label {cursor: pointer;display: block;width: 100%;margin-bottom: 0;padding: 0.3em;box-sizing: border-box;text-align: center;}#sk-container-id-1 label.sk-toggleable__label-arrow:before {content: \"▸\";float: left;margin-right: 0.25em;color: #696969;}#sk-container-id-1 label.sk-toggleable__label-arrow:hover:before {color: black;}#sk-container-id-1 div.sk-estimator:hover label.sk-toggleable__label-arrow:before {color: black;}#sk-container-id-1 div.sk-toggleable__content {max-height: 0;max-width: 0;overflow: hidden;text-align: left;background-color: #f0f8ff;}#sk-container-id-1 div.sk-toggleable__content pre {margin: 0.2em;color: black;border-radius: 0.25em;background-color: #f0f8ff;}#sk-container-id-1 input.sk-toggleable__control:checked~div.sk-toggleable__content {max-height: 200px;max-width: 100%;overflow: auto;}#sk-container-id-1 input.sk-toggleable__control:checked~label.sk-toggleable__label-arrow:before {content: \"▾\";}#sk-container-id-1 div.sk-estimator input.sk-toggleable__control:checked~label.sk-toggleable__label {background-color: #d4ebff;}#sk-container-id-1 div.sk-label input.sk-toggleable__control:checked~label.sk-toggleable__label {background-color: #d4ebff;}#sk-container-id-1 input.sk-hidden--visually {border: 0;clip: rect(1px 1px 1px 1px);clip: rect(1px, 1px, 1px, 1px);height: 1px;margin: -1px;overflow: hidden;padding: 0;position: absolute;width: 1px;}#sk-container-id-1 div.sk-estimator {font-family: monospace;background-color: #f0f8ff;border: 1px dotted black;border-radius: 0.25em;box-sizing: border-box;margin-bottom: 0.5em;}#sk-container-id-1 div.sk-estimator:hover {background-color: #d4ebff;}#sk-container-id-1 div.sk-parallel-item::after {content: \"\";width: 100%;border-bottom: 1px solid gray;flex-grow: 1;}#sk-container-id-1 div.sk-label:hover label.sk-toggleable__label {background-color: #d4ebff;}#sk-container-id-1 div.sk-serial::before {content: \"\";position: absolute;border-left: 1px solid gray;box-sizing: border-box;top: 0;bottom: 0;left: 50%;z-index: 0;}#sk-container-id-1 div.sk-serial {display: flex;flex-direction: column;align-items: center;background-color: white;padding-right: 0.2em;padding-left: 0.2em;position: relative;}#sk-container-id-1 div.sk-item {position: relative;z-index: 1;}#sk-container-id-1 div.sk-parallel {display: flex;align-items: stretch;justify-content: center;background-color: white;position: relative;}#sk-container-id-1 div.sk-item::before, #sk-container-id-1 div.sk-parallel-item::before {content: \"\";position: absolute;border-left: 1px solid gray;box-sizing: border-box;top: 0;bottom: 0;left: 50%;z-index: -1;}#sk-container-id-1 div.sk-parallel-item {display: flex;flex-direction: column;z-index: 1;position: relative;background-color: white;}#sk-container-id-1 div.sk-parallel-item:first-child::after {align-self: flex-end;width: 50%;}#sk-container-id-1 div.sk-parallel-item:last-child::after {align-self: flex-start;width: 50%;}#sk-container-id-1 div.sk-parallel-item:only-child::after {width: 0;}#sk-container-id-1 div.sk-dashed-wrapped {border: 1px dashed gray;margin: 0 0.4em 0.5em 0.4em;box-sizing: border-box;padding-bottom: 0.4em;background-color: white;}#sk-container-id-1 div.sk-label label {font-family: monospace;font-weight: bold;display: inline-block;line-height: 1.2em;}#sk-container-id-1 div.sk-label-container {text-align: center;}#sk-container-id-1 div.sk-container {/* jupyter's `normalize.less` sets `[hidden] { display: none; }` but bootstrap.min.css set `[hidden] { display: none !important; }` so we also need the `!important` here to be able to override the default hidden behavior on the sphinx rendered scikit-learn.org. See: https://github.com/scikit-learn/scikit-learn/issues/21755 */display: inline-block !important;position: relative;}#sk-container-id-1 div.sk-text-repr-fallback {display: none;}</style><div id=\"sk-container-id-1\" class=\"sk-top-container\"><div class=\"sk-text-repr-fallback\"><pre>LinearRegression()</pre><b>In a Jupyter environment, please rerun this cell to show the HTML representation or trust the notebook. <br />On GitHub, the HTML representation is unable to render, please try loading this page with nbviewer.org.</b></div><div class=\"sk-container\" hidden><div class=\"sk-item\"><div class=\"sk-estimator sk-toggleable\"><input class=\"sk-toggleable__control sk-hidden--visually\" id=\"sk-estimator-id-1\" type=\"checkbox\" checked><label for=\"sk-estimator-id-1\" class=\"sk-toggleable__label sk-toggleable__label-arrow\">LinearRegression</label><div class=\"sk-toggleable__content\"><pre>LinearRegression()</pre></div></div></div></div></div>"
            ]
          },
          "metadata": {},
          "execution_count": 27
        }
      ]
    },
    {
      "cell_type": "code",
      "source": [
        "y_predicted = reg_model.predict(x_test)"
      ],
      "metadata": {
        "id": "Of_q85XKV9fe"
      },
      "execution_count": 28,
      "outputs": []
    },
    {
      "cell_type": "code",
      "source": [
        "from sklearn.metrics import mean_absolute_error, mean_squared_error, r2_score\n",
        "\n",
        "\n",
        "print('Mean absolute error = ' + str(mean_absolute_error(y_test, y_predicted)))\n",
        "print('Mean squared error = ' + str(mean_squared_error(y_test, y_predicted)))\n",
        "print('R2 score = ' + str(r2_score(y_test, y_predicted)))"
      ],
      "metadata": {
        "colab": {
          "base_uri": "https://localhost:8080/"
        },
        "id": "j9asp1JYWBWJ",
        "outputId": "54c5e247-7cfe-4cda-bce8-18c96cd6560c"
      },
      "execution_count": 29,
      "outputs": [
        {
          "output_type": "stream",
          "name": "stdout",
          "text": [
            "Mean absolute error = 0.42075261219901894\n",
            "Mean squared error = 0.38859907052224296\n",
            "R2 score = 0.7305468705610837\n"
          ]
        }
      ]
    },
    {
      "cell_type": "code",
      "source": [
        "from sklearn.model_selection import cross_val_score\n",
        "#from sklearn.metrics import tr\n",
        "from sklearn.model_selection import cross_val_score, train_test_split\n",
        "\n",
        "from sklearn.metrics import r2_score as r2\n",
        "import xgboost as xg \n",
        "from sklearn.model_selection import train_test_split \n",
        "from sklearn.metrics import mean_squared_error as MSE \n",
        "\n",
        "from sklearn.svm import SVR\n",
        "from sklearn.ensemble import RandomForestRegressor\n",
        "from keras.models import Sequential\n",
        "from keras.models import load_model\n",
        "from keras.layers import Dense\n",
        "from sklearn.metrics import mean_squared_error as MSE\n",
        "from sklearn.metrics import mean_absolute_error as MAE"
      ],
      "metadata": {
        "id": "v9fYBNnCWgj9"
      },
      "execution_count": 58,
      "outputs": []
    },
    {
      "cell_type": "code",
      "source": [
        "def LR(X,y,k=10):\n",
        "    scores=[]\n",
        "    mse=[]\n",
        "    mae=[]\n",
        "    for i in range(k):\n",
        "        X_train, X_test, y_train, y_test = train_test_split(X, y, test_size=0.15, random_state=0)\n",
        "        reg = LinearRegression()\n",
        "        reg.fit(X_train,y_train)\n",
        "        y_pred=reg.predict(X_test)\n",
        "        scores.append(r2(y_test,y_pred))\n",
        "        mse.append(MSE(y_test,y_pred))\n",
        "        mae.append(MAE(y_test,y_pred))\n",
        "    fig ,ax =plt.subplots()\n",
        "    ax.scatter(y_test,y_pred,edgecolors=(0,0,0))\n",
        "    ax.plot([y_test.min(),y_test.max()],[y_test.min(),y_test.max()],'k--',lw=4)\n",
        "    ax.set_label('Actual')\n",
        "    ax.set_label('Predicted')\n",
        "    plt.title('Test data viz (LR)')\n",
        "    plt.show()\n",
        "    return scores,mse,mse"
      ],
      "metadata": {
        "id": "aJDSn9r2XCVe"
      },
      "execution_count": 59,
      "outputs": []
    },
    {
      "cell_type": "markdown",
      "source": [
        "SVM REGRESSOR"
      ],
      "metadata": {
        "id": "512EtgpzXVue"
      }
    },
    {
      "cell_type": "code",
      "source": [
        "def SVMRegressor(X,y,k=10):\n",
        "    scores=[]\n",
        "    mse=[]\n",
        "    mae=[]\n",
        "    for i in range(k):\n",
        "        X_train, X_test, y_train, y_test = train_test_split(X, y, test_size=0.15, random_state=0)\n",
        "        reg = SVR()\n",
        "        reg.fit(X_train,y_train)\n",
        "        y_pred=reg.predict(X_test)\n",
        "        scores.append(r2(y_test,y_pred))\n",
        "        mse.append(MSE(y_test,y_pred))\n",
        "        mae.append(MAE(y_test,y_pred))\n",
        "    fig ,ax =plt.subplots()\n",
        "    ax.scatter(y_test,y_pred,edgecolors=(0,0,0))\n",
        "    ax.plot([y_test.min(),y_test.max()],[y_test.min(),y_test.max()],'k--',lw=4)\n",
        "    ax.set_label('Actual')\n",
        "    ax.set_label('Predicted')\n",
        "    plt.title('Test data viz (SVR)')\n",
        "    plt.show()\n",
        "    return scores,mse,mse,"
      ],
      "metadata": {
        "id": "Ixsd8V8hXRds"
      },
      "execution_count": 60,
      "outputs": []
    },
    {
      "cell_type": "markdown",
      "source": [
        "RANDOM FOREST"
      ],
      "metadata": {
        "id": "CuMq7B1NXcwk"
      }
    },
    {
      "cell_type": "code",
      "source": [
        "def RF(X,y,k=10):\n",
        "    scores=[]\n",
        "    mse=[]\n",
        "    mae=[]\n",
        "    for i in range(k):\n",
        "        X_train, X_test, y_train, y_test = train_test_split(X, y, test_size=0.15, random_state=0)\n",
        "        reg = RandomForestRegressor(max_depth=4, random_state=0)\n",
        "        reg.fit(X_train,y_train)\n",
        "        y_pred=reg.predict(X_test)\n",
        "        scores.append(r2(y_test,y_pred))\n",
        "        mse.append(MSE(y_test,y_pred))\n",
        "        mae.append(MAE(y_test,y_pred))\n",
        "    fig ,ax =plt.subplots()\n",
        "    ax.scatter(y_test,y_pred,edgecolors=(0,0,0))\n",
        "    ax.plot([y_test.min(),y_test.max()],[y_test.min(),y_test.max()],'k--',lw=4)\n",
        "    ax.set_label('Actual')\n",
        "    ax.set_label('Predicted')\n",
        "    plt.title('Test data viz (RF)')\n",
        "    plt.show()\n",
        "    return scores,mse,mse\n",
        "   "
      ],
      "metadata": {
        "id": "3tZsjRwlXbZF"
      },
      "execution_count": 61,
      "outputs": []
    },
    {
      "cell_type": "markdown",
      "source": [
        "ARTIFICIAL NUERAL NETWORK(ANN)"
      ],
      "metadata": {
        "id": "YV5HJFkzXiNm"
      }
    },
    {
      "cell_type": "code",
      "source": [
        "def ANN(X,y,k=10):\n",
        "    scores=[]\n",
        "    mse=[]\n",
        "    mae=[]\n",
        "    for i in range(k):\n",
        "        \n",
        "        # fit the keras model on the dataset\n",
        "\n",
        "        X_train , X_test, y_train, y_test = train_test_split(X, y, test_size = 0.15)\n",
        "        model = Sequential()\n",
        "        model.add(Dense(20, input_dim=X.shape[1],kernel_initializer='normal', activation='relu'))\n",
        "        #model.add(Dense(32,kernel_initializer='normal', activation='relu'))\n",
        "        model.add(Dense(16,kernel_initializer='normal', activation='relu'))\n",
        "        model.add(Dense(1, activation='relu'))\n",
        "        # Compile model\n",
        "        model.compile(loss='mean_squared_error', optimizer='adam')\n",
        "        model.fit(X_train.astype('float32'), y_train.astype('float32'),epochs=50, batch_size=5, verbose=0)\n",
        "        y_pred = model.predict(np.array(X_test.astype('float32')))\n",
        "        if len(scores)==0:\n",
        "            model.save('best_model.h5')\n",
        "        elif r2(y_test.astype('float32'),y_pred) > max(scores):\n",
        "            model.save('best_model.h5')\n",
        "        scores.append(r2(y_test.astype('float32'),y_pred))\n",
        "        mse.append(MSE(y_test,y_pred))\n",
        "        mae.append(MAE(y_test,y_pred))\n",
        "    model= load_model('best_model.h5')\n",
        "    X_train , X_test, y_train, y_test = train_test_split(X, y, test_size = 0.15)\n",
        "    y_pred = model.predict(np.array(X_test.astype('float32')))\n",
        "    fig ,ax =plt.subplots()\n",
        "    ax.scatter(y_test,y_pred,edgecolors=(0,0,0))\n",
        "    ax.plot([y_test.min(),y_test.max()],[y_test.min(),y_test.max()],'k--',lw=4)\n",
        "    ax.set_label('Actual')\n",
        "    ax.set_label('Predicted')\n",
        "    plt.title('Test data viz (ANN)')\n",
        "    plt.show()\n",
        "    return scores,mse,mse"
      ],
      "metadata": {
        "id": "XIn4WkcAXyTQ"
      },
      "execution_count": 62,
      "outputs": []
    },
    {
      "cell_type": "markdown",
      "source": [
        "OUTPUT FOR LINEAR REGRESSION"
      ],
      "metadata": {
        "id": "WPAuw0lIX-dv"
      }
    },
    {
      "cell_type": "code",
      "source": [
        "print(\"Linear Regressor\")\n",
        "lr,lrmse,lrmae=LR(X,Y)\n",
        "print(\"R2 score: \"+str(sum(lr)/len(lr)))\n",
        "print(\"MSE: \"+str(sum(lrmse)/len(lrmse)))\n",
        "print(\"MAE: \"+str(sum(lrmae)/len(lrmae)))"
      ],
      "metadata": {
        "colab": {
          "base_uri": "https://localhost:8080/",
          "height": 350
        },
        "id": "GOtnbQjCX5u_",
        "outputId": "02a2f677-f06e-4de3-d075-a34e81b31ece"
      },
      "execution_count": 63,
      "outputs": [
        {
          "output_type": "stream",
          "name": "stdout",
          "text": [
            "Linear Regressor\n"
          ]
        },
        {
          "output_type": "display_data",
          "data": {
            "text/plain": [
              "<Figure size 432x288 with 1 Axes>"
            ],
            "image/png": "[encoded data removed]"
          },
          "metadata": {
            "needs_background": "light"
          }
        },
        {
          "output_type": "stream",
          "name": "stdout",
          "text": [
            "R2 score: 0.7762017081460871\n",
            "MSE: 0.2788736527398368\n",
            "MAE: 0.2788736527398368\n"
          ]
        }
      ]
    },
    {
      "cell_type": "markdown",
      "source": [
        "OUTPUT FOR SVM REGRESSOR"
      ],
      "metadata": {
        "id": "wrhj5ZmUYI1k"
      }
    },
    {
      "cell_type": "code",
      "source": [
        "print(\"Support Vector Machine Regressor\")\n",
        "svr,svrmse,svrmae=SVMRegressor(X,Y)\n",
        "print(\"R2 score: \" +str(sum(svr)/len(svr)))\n",
        "print(\"MSE: \"+str(sum(svrmse)/len(svrmse)))\n",
        "print(\"MAE: \"+str(sum(svrmae)/len(svrmae)))"
      ],
      "metadata": {
        "colab": {
          "base_uri": "https://localhost:8080/",
          "height": 350
        },
        "id": "TokV1WAcYB6d",
        "outputId": "321cb824-fc33-49e1-e888-ae8f4303791a"
      },
      "execution_count": 39,
      "outputs": [
        {
          "output_type": "stream",
          "name": "stdout",
          "text": [
            "Support Vector Machine Regressor\n"
          ]
        },
        {
          "output_type": "display_data",
          "data": {
            "text/plain": [
              "<Figure size 432x288 with 1 Axes>"
            ],
            "image/png": "[encoded data removed]"
          },
          "metadata": {
            "needs_background": "light"
          }
        },
        {
          "output_type": "stream",
          "name": "stdout",
          "text": [
            "R2 score: -0.03417882275249062\n",
            "MSE: 1.2886837674142362\n",
            "MAE: 1.2886837674142362\n"
          ]
        }
      ]
    },
    {
      "cell_type": "markdown",
      "source": [
        "OUTPUT FOR RF REGRESSOR"
      ],
      "metadata": {
        "id": "q1GbO_89YRf0"
      }
    },
    {
      "cell_type": "code",
      "source": [
        "print(\"Random Forest Regressor\")\n",
        "rf,rfmse,rfmae=RF(X,Y)\n",
        "print(\"R2 score: \" +str(sum(rf)/len(rf)))\n",
        "print(\"MSE: \"+str(sum(rfmse)/len(rfmse)))\n",
        "print(\"MAE: \"+str(sum(rfmae)/len(rfmae)))"
      ],
      "metadata": {
        "colab": {
          "base_uri": "https://localhost:8080/",
          "height": 350
        },
        "id": "P7AOdbtnYPhD",
        "outputId": "5d555b54-161a-4bd0-fdc4-4aaef1443963"
      },
      "execution_count": 40,
      "outputs": [
        {
          "output_type": "stream",
          "name": "stdout",
          "text": [
            "Random Forest Regressor\n"
          ]
        },
        {
          "output_type": "display_data",
          "data": {
            "text/plain": [
              "<Figure size 432x288 with 1 Axes>"
            ],
            "image/png": "[encoded data removed]"
          },
          "metadata": {
            "needs_background": "light"
          }
        },
        {
          "output_type": "stream",
          "name": "stdout",
          "text": [
            "R2 score: 0.8321088885593888\n",
            "MSE: 0.20920806464669917\n",
            "MAE: 0.20920806464669917\n"
          ]
        }
      ]
    },
    {
      "cell_type": "markdown",
      "source": [
        "OUTPUT FOR ANN"
      ],
      "metadata": {
        "id": "eOrxC-xEYaJc"
      }
    },
    {
      "cell_type": "code",
      "source": [
        "print(\"Regression with Artificial Neural Networks (ANN)\")\n",
        "ann,annmse,annmae=ANN(X,Y)\n",
        "print(\"R2 score: \" +str((sum(ann)/len(ann))))\n",
        "print(\"MSE: \"+str(sum(annmse)/len(annmse)))\n",
        "print(\"MAE: \"+str(sum(annmae)/len(annmae)))"
      ],
      "metadata": {
        "colab": {
          "base_uri": "https://localhost:8080/",
          "height": 596
        },
        "id": "cpnOQrGkYWjX",
        "outputId": "a8eff337-9d12-4438-d940-35508f6fcfba"
      },
      "execution_count": 41,
      "outputs": [
        {
          "output_type": "stream",
          "name": "stdout",
          "text": [
            "Regression with Artificial Neural Networks (ANN)\n",
            "1/1 [==============================] - 0s 86ms/step\n",
            "1/1 [==============================] - 0s 73ms/step\n",
            "1/1 [==============================] - 0s 59ms/step\n",
            "1/1 [==============================] - 0s 97ms/step\n"
          ]
        },
        {
          "output_type": "stream",
          "name": "stderr",
          "text": [
            "WARNING:tensorflow:5 out of the last 5 calls to <function Model.make_predict_function.<locals>.predict_function at 0x7fcb75c0fd30> triggered tf.function retracing. Tracing is expensive and the excessive number of tracings could be due to (1) creating @tf.function repeatedly in a loop, (2) passing tensors with different shapes, (3) passing Python objects instead of tensors. For (1), please define your @tf.function outside of the loop. For (2), @tf.function has reduce_retracing=True option that can avoid unnecessary retracing. For (3), please refer to https://www.tensorflow.org/guide/function#controlling_retracing and https://www.tensorflow.org/api_docs/python/tf/function for  more details.\n"
          ]
        },
        {
          "output_type": "stream",
          "name": "stdout",
          "text": [
            "1/1 [==============================] - 0s 64ms/step\n"
          ]
        },
        {
          "output_type": "stream",
          "name": "stderr",
          "text": [
            "WARNING:tensorflow:6 out of the last 6 calls to <function Model.make_predict_function.<locals>.predict_function at 0x7fcb75c0f550> triggered tf.function retracing. Tracing is expensive and the excessive number of tracings could be due to (1) creating @tf.function repeatedly in a loop, (2) passing tensors with different shapes, (3) passing Python objects instead of tensors. For (1), please define your @tf.function outside of the loop. For (2), @tf.function has reduce_retracing=True option that can avoid unnecessary retracing. For (3), please refer to https://www.tensorflow.org/guide/function#controlling_retracing and https://www.tensorflow.org/api_docs/python/tf/function for  more details.\n"
          ]
        },
        {
          "output_type": "stream",
          "name": "stdout",
          "text": [
            "1/1 [==============================] - 0s 70ms/step\n",
            "1/1 [==============================] - 0s 59ms/step\n",
            "1/1 [==============================] - 0s 66ms/step\n",
            "1/1 [==============================] - 0s 58ms/step\n",
            "1/1 [==============================] - 0s 59ms/step\n",
            "1/1 [==============================] - 0s 60ms/step\n"
          ]
        },
        {
          "output_type": "display_data",
          "data": {
            "text/plain": [
              "<Figure size 432x288 with 1 Axes>"
            ],
            "image/png": "[encoded data removed]"
          },
          "metadata": {
            "needs_background": "light"
          }
        },
        {
          "output_type": "stream",
          "name": "stdout",
          "text": [
            "R2 score: -7.138825283408529\n",
            "MSE: 8.763786959648133\n",
            "MAE: 8.763786959648133\n"
          ]
        }
      ]
    },
    {
      "cell_type": "markdown",
      "source": [
        "COMPARISON ON R2 SCORES"
      ],
      "metadata": {
        "id": "i2rPKOtXYr7l"
      }
    },
    {
      "cell_type": "code",
      "source": [
        "import numpy as np\n",
        "import matplotlib.pyplot as plt"
      ],
      "metadata": {
        "id": "MvFJHqoWYc1l"
      },
      "execution_count": 42,
      "outputs": []
    },
    {
      "cell_type": "code",
      "source": [
        "models= {'LinearRegressor':lr,'SVR':svr,'RandomForest':rf,'ANN':ann}\n",
        "\n",
        "fig, ax = plt.subplots()\n",
        "plt.title('R2 scores')\n",
        "ax.boxplot(models.values())\n",
        "ax.set_xticklabels(models.keys())"
      ],
      "metadata": {
        "colab": {
          "base_uri": "https://localhost:8080/",
          "height": 350
        },
        "id": "YZ_NC5c_YxGS",
        "outputId": "de334330-668a-4b9a-9306-f6f65d7df50d"
      },
      "execution_count": 43,
      "outputs": [
        {
          "output_type": "execute_result",
          "data": {
            "text/plain": [
              "[Text(1, 0, 'LinearRegressor'),\n",
              " Text(2, 0, 'SVR'),\n",
              " Text(3, 0, 'RandomForest'),\n",
              " Text(4, 0, 'ANN')]"
            ]
          },
          "metadata": {},
          "execution_count": 43
        },
        {
          "output_type": "display_data",
          "data": {
            "text/plain": [
              "<Figure size 432x288 with 1 Axes>"
            ],
            "image/png": "[encoded data removed]"
          },
          "metadata": {
            "needs_background": "light"
          }
        }
      ]
    },
    {
      "cell_type": "markdown",
      "source": [
        "COMPARISON ON MEAN SQUARED ERROR"
      ],
      "metadata": {
        "id": "57YLMNPTZAbW"
      }
    },
    {
      "cell_type": "code",
      "source": [
        "models= {'LinearRegressor':lrmse,'SVR':svrmse,'RandomForest':rfmse,'ANN':annmse}\n",
        "\n",
        "fig, ax = plt.subplots()\n",
        "plt.title('Mean Squared Error')\n",
        "ax.boxplot(models.values())\n",
        "ax.set_xticklabels(models.keys())"
      ],
      "metadata": {
        "colab": {
          "base_uri": "https://localhost:8080/",
          "height": 350
        },
        "id": "zCGUZopHY5mw",
        "outputId": "711aa978-ba02-4790-a692-5196c4d69d27"
      },
      "execution_count": 44,
      "outputs": [
        {
          "output_type": "execute_result",
          "data": {
            "text/plain": [
              "[Text(1, 0, 'LinearRegressor'),\n",
              " Text(2, 0, 'SVR'),\n",
              " Text(3, 0, 'RandomForest'),\n",
              " Text(4, 0, 'ANN')]"
            ]
          },
          "metadata": {},
          "execution_count": 44
        },
        {
          "output_type": "display_data",
          "data": {
            "text/plain": [
              "<Figure size 432x288 with 1 Axes>"
            ],
            "image/png": "[encoded data removed]"
          },
          "metadata": {
            "needs_background": "light"
          }
        }
      ]
    },
    {
      "cell_type": "markdown",
      "source": [
        "COMPARISON ON MEAN ABSOLUTE ERROR"
      ],
      "metadata": {
        "id": "4BViGHRaZK9d"
      }
    },
    {
      "cell_type": "code",
      "source": [
        "models= {'LinearRegressor':lrmae,'SVR':svrmae,'RandomForest':rfmae,'ANN':annmae}\n",
        "\n",
        "fig, ax = plt.subplots()\n",
        "plt.title('Mean Absolute Error')\n",
        "ax.boxplot(models.values())\n",
        "ax.set_xticklabels(models.keys())"
      ],
      "metadata": {
        "colab": {
          "base_uri": "https://localhost:8080/",
          "height": 350
        },
        "id": "JHxUqySGZIjq",
        "outputId": "3b5202ae-a29d-4c10-b31a-cba8ab950838"
      },
      "execution_count": 45,
      "outputs": [
        {
          "output_type": "execute_result",
          "data": {
            "text/plain": [
              "[Text(1, 0, 'LinearRegressor'),\n",
              " Text(2, 0, 'SVR'),\n",
              " Text(3, 0, 'RandomForest'),\n",
              " Text(4, 0, 'ANN')]"
            ]
          },
          "metadata": {},
          "execution_count": 45
        },
        {
          "output_type": "display_data",
          "data": {
            "text/plain": [
              "<Figure size 432x288 with 1 Axes>"
            ],
            "image/png": "[encoded data removed]"
          },
          "metadata": {
            "needs_background": "light"
          }
        }
      ]
    },
    {
      "cell_type": "markdown",
      "source": [
        "some prediction with random input"
      ],
      "metadata": {
        "id": "dNu_K52ajita"
      }
    },
    {
      "cell_type": "code",
      "source": [
        "pip install catboost"
      ],
      "metadata": {
        "colab": {
          "base_uri": "https://localhost:8080/"
        },
        "id": "tV2hnJiUZRJz",
        "outputId": "fa811550-469d-4c90-e6a8-29e34e7f281a"
      },
      "execution_count": 46,
      "outputs": [
        {
          "output_type": "stream",
          "name": "stdout",
          "text": [
            "Looking in indexes: https://pypi.org/simple, https://us-python.pkg.dev/colab-wheels/public/simple/\n",
            "Collecting catboost\n",
            "  Downloading catboost-1.1.1-cp39-none-manylinux1_x86_64.whl (76.6 MB)\n",
            "\u001b[2K     \u001b[90m━━━━━━━━━━━━━━━━━━━━━━━━━━━━━━━━━━━━━━━━\u001b[0m \u001b[32m76.6/76.6 MB\u001b[0m \u001b[31m13.3 MB/s\u001b[0m eta \u001b[36m0:00:00\u001b[0m\n",
            "\u001b[?25hRequirement already satisfied: graphviz in /usr/local/lib/python3.9/dist-packages (from catboost) (0.20.1)\n",
            "Requirement already satisfied: six in /usr/local/lib/python3.9/dist-packages (from catboost) (1.15.0)\n",
            "Requirement already satisfied: numpy>=1.16.0 in /usr/local/lib/python3.9/dist-packages (from catboost) (1.22.4)\n",
            "Requirement already satisfied: matplotlib in /usr/local/lib/python3.9/dist-packages (from catboost) (3.7.1)\n",
            "Requirement already satisfied: pandas>=0.24.0 in /usr/local/lib/python3.9/dist-packages (from catboost) (1.4.4)\n",
            "Requirement already satisfied: scipy in /usr/local/lib/python3.9/dist-packages (from catboost) (1.10.1)\n",
            "Requirement already satisfied: plotly in /usr/local/lib/python3.9/dist-packages (from catboost) (5.13.1)\n",
            "Requirement already satisfied: pytz>=2020.1 in /usr/local/lib/python3.9/dist-packages (from pandas>=0.24.0->catboost) (2022.7.1)\n",
            "Requirement already satisfied: python-dateutil>=2.8.1 in /usr/local/lib/python3.9/dist-packages (from pandas>=0.24.0->catboost) (2.8.2)\n",
            "Requirement already satisfied: pillow>=6.2.0 in /usr/local/lib/python3.9/dist-packages (from matplotlib->catboost) (8.4.0)\n",
            "Requirement already satisfied: kiwisolver>=1.0.1 in /usr/local/lib/python3.9/dist-packages (from matplotlib->catboost) (1.4.4)\n",
            "Requirement already satisfied: importlib-resources>=3.2.0 in /usr/local/lib/python3.9/dist-packages (from matplotlib->catboost) (5.12.0)\n",
            "Requirement already satisfied: fonttools>=4.22.0 in /usr/local/lib/python3.9/dist-packages (from matplotlib->catboost) (4.39.0)\n",
            "Requirement already satisfied: packaging>=20.0 in /usr/local/lib/python3.9/dist-packages (from matplotlib->catboost) (23.0)\n",
            "Requirement already satisfied: pyparsing>=2.3.1 in /usr/local/lib/python3.9/dist-packages (from matplotlib->catboost) (3.0.9)\n",
            "Requirement already satisfied: cycler>=0.10 in /usr/local/lib/python3.9/dist-packages (from matplotlib->catboost) (0.11.0)\n",
            "Requirement already satisfied: contourpy>=1.0.1 in /usr/local/lib/python3.9/dist-packages (from matplotlib->catboost) (1.0.7)\n",
            "Requirement already satisfied: tenacity>=6.2.0 in /usr/local/lib/python3.9/dist-packages (from plotly->catboost) (8.2.2)\n",
            "Requirement already satisfied: zipp>=3.1.0 in /usr/local/lib/python3.9/dist-packages (from importlib-resources>=3.2.0->matplotlib->catboost) (3.15.0)\n",
            "Installing collected packages: catboost\n",
            "Successfully installed catboost-1.1.1\n"
          ]
        }
      ]
    },
    {
      "cell_type": "code",
      "source": [
        "from catboost import CatBoostRegressor"
      ],
      "metadata": {
        "id": "UJ1T5QUvZviL"
      },
      "execution_count": 47,
      "outputs": []
    },
    {
      "cell_type": "code",
      "source": [
        "model=CatBoostRegressor(iterations=100, depth=10, learning_rate=0.01, loss_function='RMSE')"
      ],
      "metadata": {
        "id": "UKvTQDeuZ0kn"
      },
      "execution_count": 48,
      "outputs": []
    },
    {
      "cell_type": "code",
      "source": [
        "model.fit(X,Y ,plot=True)"
      ],
      "metadata": {
        "colab": {
          "base_uri": "https://localhost:8080/",
          "height": 1000,
          "referenced_widgets": [
            "5e8084cda1ac45858597ce0f0ae803ff"
          ]
        },
        "id": "3oiQCYJTZ3xk",
        "outputId": "682ac91e-5661-4d1d-8021-56ab582970af"
      },
      "execution_count": 49,
      "outputs": [
        {
          "output_type": "display_data",
          "data": {
            "text/plain": [
              "MetricVisualizer(layout=Layout(align_self='stretch', height='500px'))"
            ],
            "application/vnd.jupyter.widget-view+json": {
              "version_major": 2,
              "version_minor": 0,
              "model_id": "5e8084cda1ac45858597ce0f0ae803ff"
            }
          },
          "metadata": {}
        },
        {
          "output_type": "stream",
          "name": "stdout",
          "text": [
            "0:\tlearn: 1.1072886\ttotal: 47.5ms\tremaining: 4.7s\n",
            "1:\tlearn: 1.0999783\ttotal: 54.4ms\tremaining: 2.66s\n",
            "2:\tlearn: 1.0921748\ttotal: 57.8ms\tremaining: 1.87s\n",
            "3:\tlearn: 1.0848876\ttotal: 58.5ms\tremaining: 1.4s\n",
            "4:\tlearn: 1.0773664\ttotal: 62.6ms\tremaining: 1.19s\n",
            "5:\tlearn: 1.0706089\ttotal: 65ms\tremaining: 1.02s\n",
            "6:\tlearn: 1.0638400\ttotal: 67.3ms\tremaining: 894ms\n",
            "7:\tlearn: 1.0569247\ttotal: 67.9ms\tremaining: 781ms\n",
            "8:\tlearn: 1.0498057\ttotal: 70.6ms\tremaining: 713ms\n",
            "9:\tlearn: 1.0424540\ttotal: 72.9ms\tremaining: 656ms\n",
            "10:\tlearn: 1.0349897\ttotal: 73.5ms\tremaining: 595ms\n",
            "11:\tlearn: 1.0278225\ttotal: 74.5ms\tremaining: 546ms\n",
            "12:\tlearn: 1.0209011\ttotal: 76.7ms\tremaining: 513ms\n",
            "13:\tlearn: 1.0138578\ttotal: 78.9ms\tremaining: 485ms\n",
            "14:\tlearn: 1.0070938\ttotal: 81ms\tremaining: 459ms\n",
            "15:\tlearn: 1.0002787\ttotal: 83.2ms\tremaining: 437ms\n",
            "16:\tlearn: 0.9935393\ttotal: 84.5ms\tremaining: 413ms\n",
            "17:\tlearn: 0.9871735\ttotal: 85ms\tremaining: 387ms\n",
            "18:\tlearn: 0.9796010\ttotal: 85.7ms\tremaining: 365ms\n",
            "19:\tlearn: 0.9730857\ttotal: 87.8ms\tremaining: 351ms\n",
            "20:\tlearn: 0.9663982\ttotal: 88.4ms\tremaining: 332ms\n",
            "21:\tlearn: 0.9598089\ttotal: 88.8ms\tremaining: 315ms\n",
            "22:\tlearn: 0.9535858\ttotal: 91ms\tremaining: 305ms\n",
            "23:\tlearn: 0.9474105\ttotal: 93.2ms\tremaining: 295ms\n",
            "24:\tlearn: 0.9408780\ttotal: 93.8ms\tremaining: 281ms\n",
            "25:\tlearn: 0.9343045\ttotal: 94.2ms\tremaining: 268ms\n",
            "26:\tlearn: 0.9280337\ttotal: 94.6ms\tremaining: 256ms\n",
            "27:\tlearn: 0.9216255\ttotal: 95.1ms\tremaining: 245ms\n",
            "28:\tlearn: 0.9160662\ttotal: 97.5ms\tremaining: 239ms\n",
            "29:\tlearn: 0.9103072\ttotal: 99.7ms\tremaining: 233ms\n",
            "30:\tlearn: 0.9045920\ttotal: 101ms\tremaining: 225ms\n",
            "31:\tlearn: 0.8990829\ttotal: 102ms\tremaining: 216ms\n",
            "32:\tlearn: 0.8925829\ttotal: 102ms\tremaining: 208ms\n",
            "33:\tlearn: 0.8867722\ttotal: 105ms\tremaining: 203ms\n",
            "34:\tlearn: 0.8811568\ttotal: 107ms\tremaining: 198ms\n",
            "35:\tlearn: 0.8754180\ttotal: 107ms\tremaining: 191ms\n",
            "36:\tlearn: 0.8701590\ttotal: 110ms\tremaining: 186ms\n",
            "37:\tlearn: 0.8646508\ttotal: 112ms\tremaining: 182ms\n",
            "38:\tlearn: 0.8583710\ttotal: 112ms\tremaining: 176ms\n",
            "39:\tlearn: 0.8530945\ttotal: 114ms\tremaining: 172ms\n",
            "40:\tlearn: 0.8474339\ttotal: 115ms\tremaining: 165ms\n",
            "41:\tlearn: 0.8423493\ttotal: 117ms\tremaining: 162ms\n",
            "42:\tlearn: 0.8370275\ttotal: 119ms\tremaining: 158ms\n",
            "43:\tlearn: 0.8315559\ttotal: 120ms\tremaining: 153ms\n",
            "44:\tlearn: 0.8262545\ttotal: 121ms\tremaining: 148ms\n",
            "45:\tlearn: 0.8219688\ttotal: 123ms\tremaining: 145ms\n",
            "46:\tlearn: 0.8164880\ttotal: 126ms\tremaining: 142ms\n",
            "47:\tlearn: 0.8115814\ttotal: 128ms\tremaining: 138ms\n",
            "48:\tlearn: 0.8062568\ttotal: 128ms\tremaining: 133ms\n",
            "49:\tlearn: 0.8007833\ttotal: 129ms\tremaining: 129ms\n",
            "50:\tlearn: 0.7956731\ttotal: 131ms\tremaining: 126ms\n",
            "51:\tlearn: 0.7912107\ttotal: 132ms\tremaining: 122ms\n",
            "52:\tlearn: 0.7861613\ttotal: 133ms\tremaining: 118ms\n",
            "53:\tlearn: 0.7813115\ttotal: 135ms\tremaining: 115ms\n",
            "54:\tlearn: 0.7763249\ttotal: 136ms\tremaining: 111ms\n",
            "55:\tlearn: 0.7717506\ttotal: 138ms\tremaining: 108ms\n",
            "56:\tlearn: 0.7664621\ttotal: 138ms\tremaining: 104ms\n",
            "57:\tlearn: 0.7616442\ttotal: 139ms\tremaining: 100ms\n",
            "58:\tlearn: 0.7569168\ttotal: 141ms\tremaining: 98ms\n",
            "59:\tlearn: 0.7518945\ttotal: 142ms\tremaining: 94.4ms\n",
            "60:\tlearn: 0.7470423\ttotal: 142ms\tremaining: 90.8ms\n",
            "61:\tlearn: 0.7423625\ttotal: 144ms\tremaining: 88.4ms\n",
            "62:\tlearn: 0.7376651\ttotal: 147ms\tremaining: 86.1ms\n",
            "63:\tlearn: 0.7330448\ttotal: 149ms\tremaining: 83.7ms\n",
            "64:\tlearn: 0.7285594\ttotal: 151ms\tremaining: 81.3ms\n",
            "65:\tlearn: 0.7240846\ttotal: 153ms\tremaining: 79ms\n",
            "66:\tlearn: 0.7195624\ttotal: 154ms\tremaining: 76ms\n",
            "67:\tlearn: 0.7151241\ttotal: 155ms\tremaining: 72.8ms\n",
            "68:\tlearn: 0.7107663\ttotal: 157ms\tremaining: 70.4ms\n",
            "69:\tlearn: 0.7067455\ttotal: 159ms\tremaining: 68.2ms\n",
            "70:\tlearn: 0.7024316\ttotal: 161ms\tremaining: 65.8ms\n",
            "71:\tlearn: 0.6983433\ttotal: 163ms\tremaining: 63.6ms\n",
            "72:\tlearn: 0.6937890\ttotal: 164ms\tremaining: 60.6ms\n",
            "73:\tlearn: 0.6896174\ttotal: 164ms\tremaining: 57.7ms\n",
            "74:\tlearn: 0.6858371\ttotal: 165ms\tremaining: 55ms\n",
            "75:\tlearn: 0.6820044\ttotal: 167ms\tremaining: 52.6ms\n",
            "76:\tlearn: 0.6781460\ttotal: 167ms\tremaining: 49.8ms\n",
            "77:\tlearn: 0.6745432\ttotal: 167ms\tremaining: 47.1ms\n",
            "78:\tlearn: 0.6705428\ttotal: 167ms\tremaining: 44.5ms\n",
            "79:\tlearn: 0.6663731\ttotal: 167ms\tremaining: 41.9ms\n",
            "80:\tlearn: 0.6623316\ttotal: 170ms\tremaining: 39.8ms\n",
            "81:\tlearn: 0.6583612\ttotal: 173ms\tremaining: 38ms\n",
            "82:\tlearn: 0.6540523\ttotal: 175ms\tremaining: 35.8ms\n",
            "83:\tlearn: 0.6501659\ttotal: 178ms\tremaining: 34ms\n",
            "84:\tlearn: 0.6466948\ttotal: 182ms\tremaining: 32ms\n",
            "85:\tlearn: 0.6427102\ttotal: 184ms\tremaining: 30ms\n",
            "86:\tlearn: 0.6387912\ttotal: 185ms\tremaining: 27.7ms\n",
            "87:\tlearn: 0.6351569\ttotal: 194ms\tremaining: 26.5ms\n",
            "88:\tlearn: 0.6314025\ttotal: 196ms\tremaining: 24.2ms\n",
            "89:\tlearn: 0.6275959\ttotal: 198ms\tremaining: 22ms\n",
            "90:\tlearn: 0.6244096\ttotal: 202ms\tremaining: 20ms\n",
            "91:\tlearn: 0.6207760\ttotal: 209ms\tremaining: 18.2ms\n",
            "92:\tlearn: 0.6167772\ttotal: 213ms\tremaining: 16.1ms\n",
            "93:\tlearn: 0.6132741\ttotal: 218ms\tremaining: 13.9ms\n",
            "94:\tlearn: 0.6097748\ttotal: 244ms\tremaining: 12.8ms\n",
            "95:\tlearn: 0.6062667\ttotal: 247ms\tremaining: 10.3ms\n",
            "96:\tlearn: 0.6028151\ttotal: 247ms\tremaining: 7.64ms\n",
            "97:\tlearn: 0.5992451\ttotal: 250ms\tremaining: 5.1ms\n",
            "98:\tlearn: 0.5953507\ttotal: 250ms\tremaining: 2.53ms\n",
            "99:\tlearn: 0.5916374\ttotal: 251ms\tremaining: 0us\n"
          ]
        },
        {
          "output_type": "execute_result",
          "data": {
            "text/plain": [
              "<catboost.core.CatBoostRegressor at 0x7fcb63ef9f70>"
            ]
          },
          "metadata": {},
          "execution_count": 49
        }
      ]
    },
    {
      "cell_type": "code",
      "source": [
        "inp = np.array([[30.7],[69.5],[983.50]])\n",
        "\n",
        "inp = inp.reshape(1, -1)\n",
        "\n",
        "\n",
        "# Print output\n",
        "print('The Rain Drop Value in inches for the input is:', model.predict(inp))"
      ],
      "metadata": {
        "colab": {
          "base_uri": "https://localhost:8080/"
        },
        "id": "Qz-SCPtxZ5Uh",
        "outputId": "a7d27784-1e62-455e-de3d-49b24a0e6158"
      },
      "execution_count": 64,
      "outputs": [
        {
          "output_type": "stream",
          "name": "stdout",
          "text": [
            "The Rain Drop Value in inches for the input is: [3.33874225]\n"
          ]
        }
      ]
    },
    {
      "cell_type": "code",
      "source": [
        "reg_model = LinearRegression()\n",
        "reg_model.fit(x_train,y_train)"
      ],
      "metadata": {
        "colab": {
          "base_uri": "https://localhost:8080/",
          "height": 74
        },
        "id": "jjIKNXNDadPG",
        "outputId": "6567a4d4-cbb9-4211-ee02-4673b2b1b65d"
      },
      "execution_count": 65,
      "outputs": [
        {
          "output_type": "execute_result",
          "data": {
            "text/plain": [
              "LinearRegression()"
            ],
            "text/html": [
              "<style>#sk-container-id-2 {color: black;background-color: white;}#sk-container-id-2 pre{padding: 0;}#sk-container-id-2 div.sk-toggleable {background-color: white;}#sk-container-id-2 label.sk-toggleable__label {cursor: pointer;display: block;width: 100%;margin-bottom: 0;padding: 0.3em;box-sizing: border-box;text-align: center;}#sk-container-id-2 label.sk-toggleable__label-arrow:before {content: \"▸\";float: left;margin-right: 0.25em;color: #696969;}#sk-container-id-2 label.sk-toggleable__label-arrow:hover:before {color: black;}#sk-container-id-2 div.sk-estimator:hover label.sk-toggleable__label-arrow:before {color: black;}#sk-container-id-2 div.sk-toggleable__content {max-height: 0;max-width: 0;overflow: hidden;text-align: left;background-color: #f0f8ff;}#sk-container-id-2 div.sk-toggleable__content pre {margin: 0.2em;color: black;border-radius: 0.25em;background-color: #f0f8ff;}#sk-container-id-2 input.sk-toggleable__control:checked~div.sk-toggleable__content {max-height: 200px;max-width: 100%;overflow: auto;}#sk-container-id-2 input.sk-toggleable__control:checked~label.sk-toggleable__label-arrow:before {content: \"▾\";}#sk-container-id-2 div.sk-estimator input.sk-toggleable__control:checked~label.sk-toggleable__label {background-color: #d4ebff;}#sk-container-id-2 div.sk-label input.sk-toggleable__control:checked~label.sk-toggleable__label {background-color: #d4ebff;}#sk-container-id-2 input.sk-hidden--visually {border: 0;clip: rect(1px 1px 1px 1px);clip: rect(1px, 1px, 1px, 1px);height: 1px;margin: -1px;overflow: hidden;padding: 0;position: absolute;width: 1px;}#sk-container-id-2 div.sk-estimator {font-family: monospace;background-color: #f0f8ff;border: 1px dotted black;border-radius: 0.25em;box-sizing: border-box;margin-bottom: 0.5em;}#sk-container-id-2 div.sk-estimator:hover {background-color: #d4ebff;}#sk-container-id-2 div.sk-parallel-item::after {content: \"\";width: 100%;border-bottom: 1px solid gray;flex-grow: 1;}#sk-container-id-2 div.sk-label:hover label.sk-toggleable__label {background-color: #d4ebff;}#sk-container-id-2 div.sk-serial::before {content: \"\";position: absolute;border-left: 1px solid gray;box-sizing: border-box;top: 0;bottom: 0;left: 50%;z-index: 0;}#sk-container-id-2 div.sk-serial {display: flex;flex-direction: column;align-items: center;background-color: white;padding-right: 0.2em;padding-left: 0.2em;position: relative;}#sk-container-id-2 div.sk-item {position: relative;z-index: 1;}#sk-container-id-2 div.sk-parallel {display: flex;align-items: stretch;justify-content: center;background-color: white;position: relative;}#sk-container-id-2 div.sk-item::before, #sk-container-id-2 div.sk-parallel-item::before {content: \"\";position: absolute;border-left: 1px solid gray;box-sizing: border-box;top: 0;bottom: 0;left: 50%;z-index: -1;}#sk-container-id-2 div.sk-parallel-item {display: flex;flex-direction: column;z-index: 1;position: relative;background-color: white;}#sk-container-id-2 div.sk-parallel-item:first-child::after {align-self: flex-end;width: 50%;}#sk-container-id-2 div.sk-parallel-item:last-child::after {align-self: flex-start;width: 50%;}#sk-container-id-2 div.sk-parallel-item:only-child::after {width: 0;}#sk-container-id-2 div.sk-dashed-wrapped {border: 1px dashed gray;margin: 0 0.4em 0.5em 0.4em;box-sizing: border-box;padding-bottom: 0.4em;background-color: white;}#sk-container-id-2 div.sk-label label {font-family: monospace;font-weight: bold;display: inline-block;line-height: 1.2em;}#sk-container-id-2 div.sk-label-container {text-align: center;}#sk-container-id-2 div.sk-container {/* jupyter's `normalize.less` sets `[hidden] { display: none; }` but bootstrap.min.css set `[hidden] { display: none !important; }` so we also need the `!important` here to be able to override the default hidden behavior on the sphinx rendered scikit-learn.org. See: https://github.com/scikit-learn/scikit-learn/issues/21755 */display: inline-block !important;position: relative;}#sk-container-id-2 div.sk-text-repr-fallback {display: none;}</style><div id=\"sk-container-id-2\" class=\"sk-top-container\"><div class=\"sk-text-repr-fallback\"><pre>LinearRegression()</pre><b>In a Jupyter environment, please rerun this cell to show the HTML representation or trust the notebook. <br />On GitHub, the HTML representation is unable to render, please try loading this page with nbviewer.org.</b></div><div class=\"sk-container\" hidden><div class=\"sk-item\"><div class=\"sk-estimator sk-toggleable\"><input class=\"sk-toggleable__control sk-hidden--visually\" id=\"sk-estimator-id-2\" type=\"checkbox\" checked><label for=\"sk-estimator-id-2\" class=\"sk-toggleable__label sk-toggleable__label-arrow\">LinearRegression</label><div class=\"sk-toggleable__content\"><pre>LinearRegression()</pre></div></div></div></div></div>"
            ]
          },
          "metadata": {},
          "execution_count": 65
        }
      ]
    },
    {
      "cell_type": "code",
      "source": [
        "y_predicted = reg_model.predict(inp)\n",
        "y_predicted"
      ],
      "metadata": {
        "colab": {
          "base_uri": "https://localhost:8080/"
        },
        "id": "gtKkxf3JfaDH",
        "outputId": "be1ac67b-f17c-43d5-d41c-0eeb5fd2fac4"
      },
      "execution_count": 66,
      "outputs": [
        {
          "output_type": "execute_result",
          "data": {
            "text/plain": [
              "array([[1462.89720095]])"
            ]
          },
          "metadata": {},
          "execution_count": 66
        }
      ]
    },
    {
      "cell_type": "code",
      "source": [
        "reg = SVR()\n",
        "reg.fit(x_train,y_train)\n"
      ],
      "metadata": {
        "colab": {
          "base_uri": "https://localhost:8080/",
          "height": 74
        },
        "id": "xYt3mlACfoyd",
        "outputId": "6547fcc7-68f9-4327-f224-6704d3ff1cb0"
      },
      "execution_count": 74,
      "outputs": [
        {
          "output_type": "execute_result",
          "data": {
            "text/plain": [
              "SVR()"
            ],
            "text/html": [
              "<style>#sk-container-id-3 {color: black;background-color: white;}#sk-container-id-3 pre{padding: 0;}#sk-container-id-3 div.sk-toggleable {background-color: white;}#sk-container-id-3 label.sk-toggleable__label {cursor: pointer;display: block;width: 100%;margin-bottom: 0;padding: 0.3em;box-sizing: border-box;text-align: center;}#sk-container-id-3 label.sk-toggleable__label-arrow:before {content: \"▸\";float: left;margin-right: 0.25em;color: #696969;}#sk-container-id-3 label.sk-toggleable__label-arrow:hover:before {color: black;}#sk-container-id-3 div.sk-estimator:hover label.sk-toggleable__label-arrow:before {color: black;}#sk-container-id-3 div.sk-toggleable__content {max-height: 0;max-width: 0;overflow: hidden;text-align: left;background-color: #f0f8ff;}#sk-container-id-3 div.sk-toggleable__content pre {margin: 0.2em;color: black;border-radius: 0.25em;background-color: #f0f8ff;}#sk-container-id-3 input.sk-toggleable__control:checked~div.sk-toggleable__content {max-height: 200px;max-width: 100%;overflow: auto;}#sk-container-id-3 input.sk-toggleable__control:checked~label.sk-toggleable__label-arrow:before {content: \"▾\";}#sk-container-id-3 div.sk-estimator input.sk-toggleable__control:checked~label.sk-toggleable__label {background-color: #d4ebff;}#sk-container-id-3 div.sk-label input.sk-toggleable__control:checked~label.sk-toggleable__label {background-color: #d4ebff;}#sk-container-id-3 input.sk-hidden--visually {border: 0;clip: rect(1px 1px 1px 1px);clip: rect(1px, 1px, 1px, 1px);height: 1px;margin: -1px;overflow: hidden;padding: 0;position: absolute;width: 1px;}#sk-container-id-3 div.sk-estimator {font-family: monospace;background-color: #f0f8ff;border: 1px dotted black;border-radius: 0.25em;box-sizing: border-box;margin-bottom: 0.5em;}#sk-container-id-3 div.sk-estimator:hover {background-color: #d4ebff;}#sk-container-id-3 div.sk-parallel-item::after {content: \"\";width: 100%;border-bottom: 1px solid gray;flex-grow: 1;}#sk-container-id-3 div.sk-label:hover label.sk-toggleable__label {background-color: #d4ebff;}#sk-container-id-3 div.sk-serial::before {content: \"\";position: absolute;border-left: 1px solid gray;box-sizing: border-box;top: 0;bottom: 0;left: 50%;z-index: 0;}#sk-container-id-3 div.sk-serial {display: flex;flex-direction: column;align-items: center;background-color: white;padding-right: 0.2em;padding-left: 0.2em;position: relative;}#sk-container-id-3 div.sk-item {position: relative;z-index: 1;}#sk-container-id-3 div.sk-parallel {display: flex;align-items: stretch;justify-content: center;background-color: white;position: relative;}#sk-container-id-3 div.sk-item::before, #sk-container-id-3 div.sk-parallel-item::before {content: \"\";position: absolute;border-left: 1px solid gray;box-sizing: border-box;top: 0;bottom: 0;left: 50%;z-index: -1;}#sk-container-id-3 div.sk-parallel-item {display: flex;flex-direction: column;z-index: 1;position: relative;background-color: white;}#sk-container-id-3 div.sk-parallel-item:first-child::after {align-self: flex-end;width: 50%;}#sk-container-id-3 div.sk-parallel-item:last-child::after {align-self: flex-start;width: 50%;}#sk-container-id-3 div.sk-parallel-item:only-child::after {width: 0;}#sk-container-id-3 div.sk-dashed-wrapped {border: 1px dashed gray;margin: 0 0.4em 0.5em 0.4em;box-sizing: border-box;padding-bottom: 0.4em;background-color: white;}#sk-container-id-3 div.sk-label label {font-family: monospace;font-weight: bold;display: inline-block;line-height: 1.2em;}#sk-container-id-3 div.sk-label-container {text-align: center;}#sk-container-id-3 div.sk-container {/* jupyter's `normalize.less` sets `[hidden] { display: none; }` but bootstrap.min.css set `[hidden] { display: none !important; }` so we also need the `!important` here to be able to override the default hidden behavior on the sphinx rendered scikit-learn.org. See: https://github.com/scikit-learn/scikit-learn/issues/21755 */display: inline-block !important;position: relative;}#sk-container-id-3 div.sk-text-repr-fallback {display: none;}</style><div id=\"sk-container-id-3\" class=\"sk-top-container\"><div class=\"sk-text-repr-fallback\"><pre>SVR()</pre><b>In a Jupyter environment, please rerun this cell to show the HTML representation or trust the notebook. <br />On GitHub, the HTML representation is unable to render, please try loading this page with nbviewer.org.</b></div><div class=\"sk-container\" hidden><div class=\"sk-item\"><div class=\"sk-estimator sk-toggleable\"><input class=\"sk-toggleable__control sk-hidden--visually\" id=\"sk-estimator-id-3\" type=\"checkbox\" checked><label for=\"sk-estimator-id-3\" class=\"sk-toggleable__label sk-toggleable__label-arrow\">SVR</label><div class=\"sk-toggleable__content\"><pre>SVR()</pre></div></div></div></div></div>"
            ]
          },
          "metadata": {},
          "execution_count": 74
        }
      ]
    },
    {
      "cell_type": "code",
      "source": [
        "y_predicted = reg.predict(inp)\n",
        "y_predicted "
      ],
      "metadata": {
        "colab": {
          "base_uri": "https://localhost:8080/"
        },
        "id": "cs2berkqgONt",
        "outputId": "5126b923-60e6-4875-a628-4ca3f59fc7d8"
      },
      "execution_count": 76,
      "outputs": [
        {
          "output_type": "execute_result",
          "data": {
            "text/plain": [
              "array([3.8103553])"
            ]
          },
          "metadata": {},
          "execution_count": 76
        }
      ]
    },
    {
      "cell_type": "code",
      "source": [
        "reg = RandomForestRegressor()\n",
        "reg.fit(x_train,y_train)"
      ],
      "metadata": {
        "colab": {
          "base_uri": "https://localhost:8080/",
          "height": 74
        },
        "id": "45tYh7sRiV4z",
        "outputId": "959e79e9-ff14-4d03-c893-8753a43cca7e"
      },
      "execution_count": 78,
      "outputs": [
        {
          "output_type": "execute_result",
          "data": {
            "text/plain": [
              "RandomForestRegressor()"
            ],
            "text/html": [
              "<style>#sk-container-id-4 {color: black;background-color: white;}#sk-container-id-4 pre{padding: 0;}#sk-container-id-4 div.sk-toggleable {background-color: white;}#sk-container-id-4 label.sk-toggleable__label {cursor: pointer;display: block;width: 100%;margin-bottom: 0;padding: 0.3em;box-sizing: border-box;text-align: center;}#sk-container-id-4 label.sk-toggleable__label-arrow:before {content: \"▸\";float: left;margin-right: 0.25em;color: #696969;}#sk-container-id-4 label.sk-toggleable__label-arrow:hover:before {color: black;}#sk-container-id-4 div.sk-estimator:hover label.sk-toggleable__label-arrow:before {color: black;}#sk-container-id-4 div.sk-toggleable__content {max-height: 0;max-width: 0;overflow: hidden;text-align: left;background-color: #f0f8ff;}#sk-container-id-4 div.sk-toggleable__content pre {margin: 0.2em;color: black;border-radius: 0.25em;background-color: #f0f8ff;}#sk-container-id-4 input.sk-toggleable__control:checked~div.sk-toggleable__content {max-height: 200px;max-width: 100%;overflow: auto;}#sk-container-id-4 input.sk-toggleable__control:checked~label.sk-toggleable__label-arrow:before {content: \"▾\";}#sk-container-id-4 div.sk-estimator input.sk-toggleable__control:checked~label.sk-toggleable__label {background-color: #d4ebff;}#sk-container-id-4 div.sk-label input.sk-toggleable__control:checked~label.sk-toggleable__label {background-color: #d4ebff;}#sk-container-id-4 input.sk-hidden--visually {border: 0;clip: rect(1px 1px 1px 1px);clip: rect(1px, 1px, 1px, 1px);height: 1px;margin: -1px;overflow: hidden;padding: 0;position: absolute;width: 1px;}#sk-container-id-4 div.sk-estimator {font-family: monospace;background-color: #f0f8ff;border: 1px dotted black;border-radius: 0.25em;box-sizing: border-box;margin-bottom: 0.5em;}#sk-container-id-4 div.sk-estimator:hover {background-color: #d4ebff;}#sk-container-id-4 div.sk-parallel-item::after {content: \"\";width: 100%;border-bottom: 1px solid gray;flex-grow: 1;}#sk-container-id-4 div.sk-label:hover label.sk-toggleable__label {background-color: #d4ebff;}#sk-container-id-4 div.sk-serial::before {content: \"\";position: absolute;border-left: 1px solid gray;box-sizing: border-box;top: 0;bottom: 0;left: 50%;z-index: 0;}#sk-container-id-4 div.sk-serial {display: flex;flex-direction: column;align-items: center;background-color: white;padding-right: 0.2em;padding-left: 0.2em;position: relative;}#sk-container-id-4 div.sk-item {position: relative;z-index: 1;}#sk-container-id-4 div.sk-parallel {display: flex;align-items: stretch;justify-content: center;background-color: white;position: relative;}#sk-container-id-4 div.sk-item::before, #sk-container-id-4 div.sk-parallel-item::before {content: \"\";position: absolute;border-left: 1px solid gray;box-sizing: border-box;top: 0;bottom: 0;left: 50%;z-index: -1;}#sk-container-id-4 div.sk-parallel-item {display: flex;flex-direction: column;z-index: 1;position: relative;background-color: white;}#sk-container-id-4 div.sk-parallel-item:first-child::after {align-self: flex-end;width: 50%;}#sk-container-id-4 div.sk-parallel-item:last-child::after {align-self: flex-start;width: 50%;}#sk-container-id-4 div.sk-parallel-item:only-child::after {width: 0;}#sk-container-id-4 div.sk-dashed-wrapped {border: 1px dashed gray;margin: 0 0.4em 0.5em 0.4em;box-sizing: border-box;padding-bottom: 0.4em;background-color: white;}#sk-container-id-4 div.sk-label label {font-family: monospace;font-weight: bold;display: inline-block;line-height: 1.2em;}#sk-container-id-4 div.sk-label-container {text-align: center;}#sk-container-id-4 div.sk-container {/* jupyter's `normalize.less` sets `[hidden] { display: none; }` but bootstrap.min.css set `[hidden] { display: none !important; }` so we also need the `!important` here to be able to override the default hidden behavior on the sphinx rendered scikit-learn.org. See: https://github.com/scikit-learn/scikit-learn/issues/21755 */display: inline-block !important;position: relative;}#sk-container-id-4 div.sk-text-repr-fallback {display: none;}</style><div id=\"sk-container-id-4\" class=\"sk-top-container\"><div class=\"sk-text-repr-fallback\"><pre>RandomForestRegressor()</pre><b>In a Jupyter environment, please rerun this cell to show the HTML representation or trust the notebook. <br />On GitHub, the HTML representation is unable to render, please try loading this page with nbviewer.org.</b></div><div class=\"sk-container\" hidden><div class=\"sk-item\"><div class=\"sk-estimator sk-toggleable\"><input class=\"sk-toggleable__control sk-hidden--visually\" id=\"sk-estimator-id-4\" type=\"checkbox\" checked><label for=\"sk-estimator-id-4\" class=\"sk-toggleable__label sk-toggleable__label-arrow\">RandomForestRegressor</label><div class=\"sk-toggleable__content\"><pre>RandomForestRegressor()</pre></div></div></div></div></div>"
            ]
          },
          "metadata": {},
          "execution_count": 78
        }
      ]
    },
    {
      "cell_type": "code",
      "source": [
        "y_predicted = reg.predict(inp)\n",
        "y_predicted "
      ],
      "metadata": {
        "colab": {
          "base_uri": "https://localhost:8080/"
        },
        "id": "85saNcSdjH9O",
        "outputId": "36cf2877-df50-4d72-f1d5-0e04d26633a0"
      },
      "execution_count": 79,
      "outputs": [
        {
          "output_type": "execute_result",
          "data": {
            "text/plain": [
              "array([4.47])"
            ]
          },
          "metadata": {},
          "execution_count": 79
        }
      ]
    },
    {
      "cell_type": "code",
      "source": [],
      "metadata": {
        "id": "NXaAxLVCjSra"
      },
      "execution_count": null,
      "outputs": []
    }
  ]
}